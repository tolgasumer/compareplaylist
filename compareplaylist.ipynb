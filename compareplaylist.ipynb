{
 "cells": [
  {
   "cell_type": "markdown",
   "metadata": {},
   "source": [
    "# Step 1: Import Packages & Spotify Authentication"
   ]
  },
  {
   "cell_type": "code",
   "execution_count": 1,
   "metadata": {
    "ExecuteTime": {
     "end_time": "2019-05-28T20:15:22.889942Z",
     "start_time": "2019-05-28T20:15:21.835648Z"
    }
   },
   "outputs": [],
   "source": [
    "import sys\n",
    "import spotipy\n",
    "import spotipy.util as util\n",
    "import pandas as pd\n",
    "import numpy as np\n",
    "import matplotlib.pyplot as plt\n",
    "\n",
    "scope = 'user-library-read'\n",
    "token = util.prompt_for_user_token(\"11100316938\",scope,client_id='bddfdc9233b5493899809dcc42ca5cc3',client_secret='d97a1e581b5f4b4b9da348d6a0529e02',redirect_uri='http://localhost:5000/callback')\n",
    "spotify = spotipy.Spotify(auth = token)"
   ]
  },
  {
   "cell_type": "markdown",
   "metadata": {},
   "source": [
    "# Functions"
   ]
  },
  {
   "cell_type": "markdown",
   "metadata": {},
   "source": [
    "## getPlaylistFeatures()\n",
    " returns an array with DataFrame of Tracks and Name of playlist in the following tuple\n",
    "- (playlistDF, playlistName)"
   ]
  },
  {
   "cell_type": "code",
   "execution_count": 2,
   "metadata": {
    "ExecuteTime": {
     "end_time": "2019-05-28T20:15:22.902916Z",
     "start_time": "2019-05-28T20:15:22.892134Z"
    }
   },
   "outputs": [],
   "source": [
    "def getPlaylistFeatures(playlistURI, playlistNum):\n",
    "    \n",
    "    userPlaylistResponse = spotify.user_playlist(\"11100316938\", playlistURI)\n",
    "    playlistName = userPlaylistResponse[\"name\"]\n",
    "    \n",
    "    #tracks are returned in this JSON response\n",
    "    tracksResponse = spotify.user_playlist_tracks(\"11100316938\", playlistURI)\n",
    "    tracks = tracksResponse[\"items\"]\n",
    "    \n",
    "    #instantiate an empty array and place the Tracks URI in this array\n",
    "    tracksArray = [] \n",
    "    for track in tracks:\n",
    "        URI = track[\"track\"][\"id\"]\n",
    "        tracksArray.append(URI)\n",
    "    \n",
    "    dfArray = [] #empty array the DataFrame will intake\n",
    "    dfColumns = [\"trackURI\", \"danceability\", \"energy\", \"speechiness\", \"acousticness\", \"instrumentalness\", \"liveness\", \"valence\", \"playlistNum\"] #columns that make DataFrame\n",
    "        \n",
    "    #code to iterate through each track URI and get its respective features\n",
    "    for trackURI in tracksArray:\n",
    "        trackFeatures = spotify.audio_features(trackURI)\n",
    "        \n",
    "        danceability = trackFeatures[0][\"danceability\"]\n",
    "        energy = trackFeatures[0][\"energy\"]\n",
    "        speechiness = trackFeatures[0][\"speechiness\"]\n",
    "        acousticness = trackFeatures[0][\"acousticness\"]\n",
    "        instrumentalness = trackFeatures[0][\"instrumentalness\"]\n",
    "        liveness = trackFeatures[0][\"liveness\"]\n",
    "        valence = trackFeatures[0][\"valence\"]\n",
    "        \n",
    "        tempArray = [trackURI, danceability, energy, speechiness, acousticness, instrumentalness, liveness, valence, playlistNum]\n",
    "        dfArray.append(tempArray)\n",
    "        \n",
    "    playlistDF = pd.DataFrame(dfArray, columns = dfColumns)\n",
    "    return (playlistDF, playlistName)\n"
   ]
  },
  {
   "cell_type": "markdown",
   "metadata": {},
   "source": [
    "# mostDissimilarFeatures(playlist1,playlist2)\n",
    "- returns a dataframe with the most dissimilar features in descending order\n",
    "- the dissimilarity is computed with Euclidean Distance between the means of each features respective to their playlist"
   ]
  },
  {
   "cell_type": "code",
   "execution_count": 3,
   "metadata": {
    "ExecuteTime": {
     "end_time": "2019-05-28T20:15:22.914192Z",
     "start_time": "2019-05-28T20:15:22.906198Z"
    }
   },
   "outputs": [],
   "source": [
    "def mostDissimilarFeatures(playlist1DF, playlist2DF):\n",
    "#     playlist1 = getPlaylistFeatures(playlist1, 1)\n",
    "#     playlist2 = getPlaylistFeatures(playlist2, 2)\n",
    "    \n",
    "    playlist1Mean = pd.DataFrame(playlist1DF[[\"danceability\", \"energy\", \"speechiness\", \"acousticness\", \"instrumentalness\", \"liveness\", \"valence\"]].mean(), columns = [\"playlist1\"])\n",
    "    playlist2Mean = pd.DataFrame(playlist2DF[[\"danceability\", \"energy\", \"speechiness\", \"acousticness\", \"instrumentalness\", \"liveness\", \"valence\"]].mean(), columns = [\"playlist2\"])\n",
    "\n",
    "    mergedMeans = playlist1Mean.join(playlist2Mean)\n",
    "    \n",
    "    differenced = mergedMeans.assign(absoluteDifference = lambda x: np.absolute(mergedMeans[\"playlist1\"] - mergedMeans[\"playlist2\"]))\n",
    "    differenced = differenced.sort_values(\"absoluteDifference\", ascending = False)\n",
    "\n",
    "    display(differenced)\n",
    "    playlist1Mean.plot(kind='bar')\n",
    "    playlist2Mean.plot(kind='bar')\n",
    "\n",
    "    topDissimilar = differenced.index\n",
    "    \n",
    "    return topDissimilar"
   ]
  },
  {
   "cell_type": "markdown",
   "metadata": {},
   "source": [
    "# plotPlaylists(playlist1, playlist2)\n",
    "- plots the top two dissimilar features amongsts the two playlist to help us visualize how different or similar they are"
   ]
  },
  {
   "cell_type": "code",
   "execution_count": 4,
   "metadata": {
    "ExecuteTime": {
     "end_time": "2019-05-28T20:15:22.925440Z",
     "start_time": "2019-05-28T20:15:22.917118Z"
    }
   },
   "outputs": [],
   "source": [
    "def plotPlaylists(playlist1, playlist2, feature1, feature2):\n",
    "#     feature1 = \"acousticness\"\n",
    "#     feature2 = \"instrumentalness\"\n",
    "\n",
    "    playlist1DF = playlist1[0]\n",
    "    playlist2DF = playlist2[0]\n",
    "    \n",
    "    playlist1Name = playlist1[1]\n",
    "    playlist2Name = playlist2[1]\n",
    "\n",
    "    plt.scatter(playlist1DF[feature1], playlist1DF[feature2], c = \"r\")\n",
    "    plt.scatter(playlist2DF[feature1], playlist2DF[feature2], c = \"g\")\n",
    "    plt.xlabel(feature1)\n",
    "    plt.ylabel(feature2)\n",
    "    plt.legend(labels = [playlist1Name, playlist2Name])\n",
    "    plt.show"
   ]
  },
  {
   "cell_type": "markdown",
   "metadata": {},
   "source": [
    "# KNNPredict(songURI, kNeighbors)\n",
    "- this function will take a user input a song and tell you which playlist the song best belongs to using K-Nearest Neighbors Algorithm that is built into SciKit Learn\n",
    "- Model is fitted from a dataFrame that contains the following:\n",
    "    - Input: [feature1, feature2]\n",
    "    - Output: Classification ... or which playlist those features belong to"
   ]
  },
  {
   "cell_type": "code",
   "execution_count": 5,
   "metadata": {
    "ExecuteTime": {
     "end_time": "2019-05-28T20:15:22.934817Z",
     "start_time": "2019-05-28T20:15:22.927816Z"
    }
   },
   "outputs": [],
   "source": [
    "def KNNPredict(kNeighbors, playlist1, playlist2, feature1, feature2, songFeatures):\n",
    "\n",
    "    merge = [playlist1[0],playlist2[0]] \n",
    "    dfMerge = pd.concat(merge)\n",
    "\n",
    "    features = dfMerge[[feature1,feature2]]\n",
    "    classification = dfMerge['playlistNum']\n",
    "    \n",
    "    model = KNeighborsClassifier(n_neighbors=kNeighbors)\n",
    "    model.fit(features, classification)\n",
    "    \n",
    "#     return(model)\n",
    "    return(model.predict([songFeatures]))"
   ]
  },
  {
   "cell_type": "markdown",
   "metadata": {},
   "source": [
    "# getSongFeatures(songURI)\n",
    "- gets the features from the song to analyze and then eventually predict.\n",
    "- returns a DataFrame of song features"
   ]
  },
  {
   "cell_type": "code",
   "execution_count": 6,
   "metadata": {
    "ExecuteTime": {
     "end_time": "2019-05-28T20:15:22.944028Z",
     "start_time": "2019-05-28T20:15:22.938030Z"
    }
   },
   "outputs": [],
   "source": [
    "def getSongFeature(songURI):\n",
    "    features = spotify.audio_features(songURI)\n",
    "    features = features[0]\n",
    "    \n",
    "    display(features)\n",
    "    \n",
    "    danceability = features[\"danceability\"]\n",
    "    energy = features[\"energy\"]\n",
    "    speechiness = features[\"speechiness\"]\n",
    "    acousticness = features[\"acousticness\"]\n",
    "    instrumentalness = features[\"instrumentalness\"]\n",
    "    liveness = features[\"liveness\"]\n",
    "    valence = features[\"valence\"]\n",
    "    \n",
    "    dfArray = [danceability, energy, speechiness, acousticness, instrumentalness, liveness, valence] #empty array the DataFrame will intake\n",
    "    dfColumns = [\"danceability\", \"energy\", \"speechiness\", \"acousticness\", \"instrumentalness\", \"liveness\", \"valence\"] #columns that make DataFrame\n",
    "    \n",
    "    trackFeatures = pd.DataFrame(dfArray, index = dfColumns)\n",
    "    trackFeatures = trackFeatures.transpose()\n",
    "    return(trackFeatures)"
   ]
  },
  {
   "cell_type": "markdown",
   "metadata": {},
   "source": [
    "# getSongName(songURI)"
   ]
  },
  {
   "cell_type": "code",
   "execution_count": 7,
   "metadata": {
    "ExecuteTime": {
     "end_time": "2019-05-28T20:15:22.951485Z",
     "start_time": "2019-05-28T20:15:22.947520Z"
    }
   },
   "outputs": [],
   "source": [
    "def getSongName(songURI):\n",
    "    trackName = (spotify.track(songURI)[\"name\"])\n",
    "    return(trackName)"
   ]
  },
  {
   "cell_type": "markdown",
   "metadata": {},
   "source": [
    "# Step 2: Input Playlist to Analyze\n",
    "- Using two Spotify featured playlists' playlistID's"
   ]
  },
  {
   "cell_type": "code",
   "execution_count": 8,
   "metadata": {
    "ExecuteTime": {
     "end_time": "2019-05-28T20:15:22.964261Z",
     "start_time": "2019-05-28T20:15:22.955305Z"
    }
   },
   "outputs": [],
   "source": [
    "playlist1Input = '37i9dQZF1DX9bvVeeesP1m' #anadolu rock\n",
    "playlist2Input = '37i9dQZF1DXbITWG1ZJKYt' #jazz classics"
   ]
  },
  {
   "cell_type": "markdown",
   "metadata": {},
   "source": [
    "# Step 3: Retrieve Playlists Information\n",
    "- Call the function to retrieve the tracks from each playlists and their features\n",
    "- We also get the playlist's name"
   ]
  },
  {
   "cell_type": "code",
   "execution_count": 9,
   "metadata": {
    "ExecuteTime": {
     "end_time": "2019-05-28T20:15:39.614395Z",
     "start_time": "2019-05-28T20:15:22.967929Z"
    }
   },
   "outputs": [],
   "source": [
    "playlist1 = getPlaylistFeatures(playlist1Input, 1)\n",
    "playlist2 = getPlaylistFeatures(playlist2Input, 2)\n",
    "\n",
    "#the variables above contain both a DataFrame and the name. We access them by parsing through the returned tuple\n",
    "playlist1DF = playlist1[0]\n",
    "playlist1Name = playlist1[1]\n",
    "\n",
    "playlist2DF = playlist2[0]\n",
    "playlist2Name = playlist2[1]"
   ]
  },
  {
   "cell_type": "code",
   "execution_count": 10,
   "metadata": {
    "ExecuteTime": {
     "end_time": "2019-05-28T20:15:39.700110Z",
     "start_time": "2019-05-28T20:15:39.616585Z"
    }
   },
   "outputs": [
    {
     "data": {
      "text/plain": [
       "'Anadolu Rock'"
      ]
     },
     "metadata": {},
     "output_type": "display_data"
    },
    {
     "data": {
      "text/html": [
       "<div>\n",
       "<style scoped>\n",
       "    .dataframe tbody tr th:only-of-type {\n",
       "        vertical-align: middle;\n",
       "    }\n",
       "\n",
       "    .dataframe tbody tr th {\n",
       "        vertical-align: top;\n",
       "    }\n",
       "\n",
       "    .dataframe thead th {\n",
       "        text-align: right;\n",
       "    }\n",
       "</style>\n",
       "<table border=\"1\" class=\"dataframe\">\n",
       "  <thead>\n",
       "    <tr style=\"text-align: right;\">\n",
       "      <th></th>\n",
       "      <th>trackURI</th>\n",
       "      <th>danceability</th>\n",
       "      <th>energy</th>\n",
       "      <th>speechiness</th>\n",
       "      <th>acousticness</th>\n",
       "      <th>instrumentalness</th>\n",
       "      <th>liveness</th>\n",
       "      <th>valence</th>\n",
       "      <th>playlistNum</th>\n",
       "    </tr>\n",
       "  </thead>\n",
       "  <tbody>\n",
       "    <tr>\n",
       "      <th>0</th>\n",
       "      <td>2Ejiv4HRKNxb76jt0FxCl1</td>\n",
       "      <td>0.469</td>\n",
       "      <td>0.486</td>\n",
       "      <td>0.0427</td>\n",
       "      <td>0.149</td>\n",
       "      <td>0.000012</td>\n",
       "      <td>0.123</td>\n",
       "      <td>0.595</td>\n",
       "      <td>1</td>\n",
       "    </tr>\n",
       "    <tr>\n",
       "      <th>1</th>\n",
       "      <td>4NJk0lLs8yStxeTOcsrBAh</td>\n",
       "      <td>0.642</td>\n",
       "      <td>0.477</td>\n",
       "      <td>0.0349</td>\n",
       "      <td>0.400</td>\n",
       "      <td>0.017700</td>\n",
       "      <td>0.143</td>\n",
       "      <td>0.932</td>\n",
       "      <td>1</td>\n",
       "    </tr>\n",
       "    <tr>\n",
       "      <th>2</th>\n",
       "      <td>4tC96bxgSFkA9tvPI0kCMb</td>\n",
       "      <td>0.413</td>\n",
       "      <td>0.427</td>\n",
       "      <td>0.0649</td>\n",
       "      <td>0.694</td>\n",
       "      <td>0.096100</td>\n",
       "      <td>0.154</td>\n",
       "      <td>0.231</td>\n",
       "      <td>1</td>\n",
       "    </tr>\n",
       "    <tr>\n",
       "      <th>3</th>\n",
       "      <td>38iyncj06LC85KAp1hw5Zd</td>\n",
       "      <td>0.581</td>\n",
       "      <td>0.507</td>\n",
       "      <td>0.0310</td>\n",
       "      <td>0.766</td>\n",
       "      <td>0.000000</td>\n",
       "      <td>0.105</td>\n",
       "      <td>0.533</td>\n",
       "      <td>1</td>\n",
       "    </tr>\n",
       "    <tr>\n",
       "      <th>4</th>\n",
       "      <td>0UHdubLzS9oftzvPz9uIDg</td>\n",
       "      <td>0.414</td>\n",
       "      <td>0.635</td>\n",
       "      <td>0.0326</td>\n",
       "      <td>0.872</td>\n",
       "      <td>0.000142</td>\n",
       "      <td>0.203</td>\n",
       "      <td>0.400</td>\n",
       "      <td>1</td>\n",
       "    </tr>\n",
       "  </tbody>\n",
       "</table>\n",
       "</div>"
      ],
      "text/plain": [
       "                 trackURI  danceability  energy  speechiness  acousticness  \\\n",
       "0  2Ejiv4HRKNxb76jt0FxCl1         0.469   0.486       0.0427         0.149   \n",
       "1  4NJk0lLs8yStxeTOcsrBAh         0.642   0.477       0.0349         0.400   \n",
       "2  4tC96bxgSFkA9tvPI0kCMb         0.413   0.427       0.0649         0.694   \n",
       "3  38iyncj06LC85KAp1hw5Zd         0.581   0.507       0.0310         0.766   \n",
       "4  0UHdubLzS9oftzvPz9uIDg         0.414   0.635       0.0326         0.872   \n",
       "\n",
       "   instrumentalness  liveness  valence  playlistNum  \n",
       "0          0.000012     0.123    0.595            1  \n",
       "1          0.017700     0.143    0.932            1  \n",
       "2          0.096100     0.154    0.231            1  \n",
       "3          0.000000     0.105    0.533            1  \n",
       "4          0.000142     0.203    0.400            1  "
      ]
     },
     "metadata": {},
     "output_type": "display_data"
    },
    {
     "data": {
      "text/plain": [
       "'Jazz Classics'"
      ]
     },
     "metadata": {},
     "output_type": "display_data"
    },
    {
     "data": {
      "text/html": [
       "<div>\n",
       "<style scoped>\n",
       "    .dataframe tbody tr th:only-of-type {\n",
       "        vertical-align: middle;\n",
       "    }\n",
       "\n",
       "    .dataframe tbody tr th {\n",
       "        vertical-align: top;\n",
       "    }\n",
       "\n",
       "    .dataframe thead th {\n",
       "        text-align: right;\n",
       "    }\n",
       "</style>\n",
       "<table border=\"1\" class=\"dataframe\">\n",
       "  <thead>\n",
       "    <tr style=\"text-align: right;\">\n",
       "      <th></th>\n",
       "      <th>trackURI</th>\n",
       "      <th>danceability</th>\n",
       "      <th>energy</th>\n",
       "      <th>speechiness</th>\n",
       "      <th>acousticness</th>\n",
       "      <th>instrumentalness</th>\n",
       "      <th>liveness</th>\n",
       "      <th>valence</th>\n",
       "      <th>playlistNum</th>\n",
       "    </tr>\n",
       "  </thead>\n",
       "  <tbody>\n",
       "    <tr>\n",
       "      <th>0</th>\n",
       "      <td>1YQWosTIljIvxAgHWTp7KP</td>\n",
       "      <td>0.454</td>\n",
       "      <td>0.2600</td>\n",
       "      <td>0.0401</td>\n",
       "      <td>0.539</td>\n",
       "      <td>0.00078</td>\n",
       "      <td>0.0675</td>\n",
       "      <td>0.5980</td>\n",
       "      <td>2</td>\n",
       "    </tr>\n",
       "    <tr>\n",
       "      <th>1</th>\n",
       "      <td>3QxZooLdeJBAf0x405DDI7</td>\n",
       "      <td>0.621</td>\n",
       "      <td>0.0335</td>\n",
       "      <td>0.0395</td>\n",
       "      <td>0.555</td>\n",
       "      <td>0.93000</td>\n",
       "      <td>0.2180</td>\n",
       "      <td>0.1260</td>\n",
       "      <td>2</td>\n",
       "    </tr>\n",
       "    <tr>\n",
       "      <th>2</th>\n",
       "      <td>4gP7YhlZqwogw7D0nm0dL4</td>\n",
       "      <td>0.282</td>\n",
       "      <td>0.2480</td>\n",
       "      <td>0.0366</td>\n",
       "      <td>0.919</td>\n",
       "      <td>0.85700</td>\n",
       "      <td>0.1090</td>\n",
       "      <td>0.1060</td>\n",
       "      <td>2</td>\n",
       "    </tr>\n",
       "    <tr>\n",
       "      <th>3</th>\n",
       "      <td>76XN6m7RzGYwnzngUGD6Tt</td>\n",
       "      <td>0.468</td>\n",
       "      <td>0.3880</td>\n",
       "      <td>0.0275</td>\n",
       "      <td>0.886</td>\n",
       "      <td>0.36200</td>\n",
       "      <td>0.1070</td>\n",
       "      <td>0.1250</td>\n",
       "      <td>2</td>\n",
       "    </tr>\n",
       "    <tr>\n",
       "      <th>4</th>\n",
       "      <td>5XPTuQXrCc8UPDExxVa4vh</td>\n",
       "      <td>0.293</td>\n",
       "      <td>0.2370</td>\n",
       "      <td>0.0381</td>\n",
       "      <td>0.754</td>\n",
       "      <td>0.45000</td>\n",
       "      <td>0.1210</td>\n",
       "      <td>0.0848</td>\n",
       "      <td>2</td>\n",
       "    </tr>\n",
       "  </tbody>\n",
       "</table>\n",
       "</div>"
      ],
      "text/plain": [
       "                 trackURI  danceability  energy  speechiness  acousticness  \\\n",
       "0  1YQWosTIljIvxAgHWTp7KP         0.454  0.2600       0.0401         0.539   \n",
       "1  3QxZooLdeJBAf0x405DDI7         0.621  0.0335       0.0395         0.555   \n",
       "2  4gP7YhlZqwogw7D0nm0dL4         0.282  0.2480       0.0366         0.919   \n",
       "3  76XN6m7RzGYwnzngUGD6Tt         0.468  0.3880       0.0275         0.886   \n",
       "4  5XPTuQXrCc8UPDExxVa4vh         0.293  0.2370       0.0381         0.754   \n",
       "\n",
       "   instrumentalness  liveness  valence  playlistNum  \n",
       "0           0.00078    0.0675   0.5980            2  \n",
       "1           0.93000    0.2180   0.1260            2  \n",
       "2           0.85700    0.1090   0.1060            2  \n",
       "3           0.36200    0.1070   0.1250            2  \n",
       "4           0.45000    0.1210   0.0848            2  "
      ]
     },
     "metadata": {},
     "output_type": "display_data"
    }
   ],
   "source": [
    "display(playlist1Name)\n",
    "display(playlist1DF.head())\n",
    "\n",
    "display(playlist2Name)\n",
    "display(playlist2DF.head())"
   ]
  },
  {
   "cell_type": "markdown",
   "metadata": {},
   "source": [
    "# Step 3: Identify Most Dissimilar Features"
   ]
  },
  {
   "cell_type": "code",
   "execution_count": 11,
   "metadata": {
    "ExecuteTime": {
     "end_time": "2019-05-28T20:15:40.078239Z",
     "start_time": "2019-05-28T20:15:39.703284Z"
    }
   },
   "outputs": [
    {
     "data": {
      "text/html": [
       "<div>\n",
       "<style scoped>\n",
       "    .dataframe tbody tr th:only-of-type {\n",
       "        vertical-align: middle;\n",
       "    }\n",
       "\n",
       "    .dataframe tbody tr th {\n",
       "        vertical-align: top;\n",
       "    }\n",
       "\n",
       "    .dataframe thead th {\n",
       "        text-align: right;\n",
       "    }\n",
       "</style>\n",
       "<table border=\"1\" class=\"dataframe\">\n",
       "  <thead>\n",
       "    <tr style=\"text-align: right;\">\n",
       "      <th></th>\n",
       "      <th>playlist1</th>\n",
       "      <th>playlist2</th>\n",
       "      <th>absoluteDifference</th>\n",
       "    </tr>\n",
       "  </thead>\n",
       "  <tbody>\n",
       "    <tr>\n",
       "      <th>valence</th>\n",
       "      <td>0.667500</td>\n",
       "      <td>0.397076</td>\n",
       "      <td>0.270424</td>\n",
       "    </tr>\n",
       "    <tr>\n",
       "      <th>instrumentalness</th>\n",
       "      <td>0.100661</td>\n",
       "      <td>0.355073</td>\n",
       "      <td>0.254412</td>\n",
       "    </tr>\n",
       "    <tr>\n",
       "      <th>acousticness</th>\n",
       "      <td>0.449890</td>\n",
       "      <td>0.694196</td>\n",
       "      <td>0.244306</td>\n",
       "    </tr>\n",
       "    <tr>\n",
       "      <th>energy</th>\n",
       "      <td>0.534450</td>\n",
       "      <td>0.315344</td>\n",
       "      <td>0.219106</td>\n",
       "    </tr>\n",
       "    <tr>\n",
       "      <th>danceability</th>\n",
       "      <td>0.530750</td>\n",
       "      <td>0.495300</td>\n",
       "      <td>0.035450</td>\n",
       "    </tr>\n",
       "    <tr>\n",
       "      <th>speechiness</th>\n",
       "      <td>0.064877</td>\n",
       "      <td>0.038652</td>\n",
       "      <td>0.026225</td>\n",
       "    </tr>\n",
       "    <tr>\n",
       "      <th>liveness</th>\n",
       "      <td>0.173278</td>\n",
       "      <td>0.165908</td>\n",
       "      <td>0.007370</td>\n",
       "    </tr>\n",
       "  </tbody>\n",
       "</table>\n",
       "</div>"
      ],
      "text/plain": [
       "                  playlist1  playlist2  absoluteDifference\n",
       "valence            0.667500   0.397076            0.270424\n",
       "instrumentalness   0.100661   0.355073            0.254412\n",
       "acousticness       0.449890   0.694196            0.244306\n",
       "energy             0.534450   0.315344            0.219106\n",
       "danceability       0.530750   0.495300            0.035450\n",
       "speechiness        0.064877   0.038652            0.026225\n",
       "liveness           0.173278   0.165908            0.007370"
      ]
     },
     "metadata": {},
     "output_type": "display_data"
    },
    {
     "data": {
      "image/png": "[encoded data removed]",
      "text/plain": [
       "<Figure size 432x288 with 1 Axes>"
      ]
     },
     "metadata": {
      "needs_background": "light"
     },
     "output_type": "display_data"
    },
    {
     "data": {
      "image/png": "[encoded data removed]",
      "text/plain": [
       "<Figure size 432x288 with 1 Axes>"
      ]
     },
     "metadata": {
      "needs_background": "light"
     },
     "output_type": "display_data"
    }
   ],
   "source": [
    "# we input the DataFrames for each playlist into the function\n",
    "mostDissimilar = mostDissimilarFeatures(playlist1DF, playlist2DF)\n",
    "\n",
    "# we only want the top 2 dissimilar features\n",
    "top2Dissimilar = mostDissimilar.values.tolist() #conver to list to access\n",
    "feature1 = top2Dissimilar[0]\n",
    "feature2 = top2Dissimilar[1]"
   ]
  },
  {
   "cell_type": "markdown",
   "metadata": {},
   "source": [
    "# Step 4: Plot Dissimilar Features"
   ]
  },
  {
   "cell_type": "code",
   "execution_count": 12,
   "metadata": {
    "ExecuteTime": {
     "end_time": "2019-05-28T20:15:40.256085Z",
     "start_time": "2019-05-28T20:15:40.080608Z"
    }
   },
   "outputs": [
    {
     "data": {
      "image/png": "[encoded data removed]",
      "text/plain": [
       "<Figure size 432x288 with 1 Axes>"
      ]
     },
     "metadata": {
      "needs_background": "light"
     },
     "output_type": "display_data"
    }
   ],
   "source": [
    "plotPlaylists(playlist1, playlist2, feature1, feature2)"
   ]
  },
  {
   "cell_type": "markdown",
   "metadata": {},
   "source": [
    "# Step 5: Get Song Features\n",
    "- get the features of the song that we want to see where it belongs"
   ]
  },
  {
   "cell_type": "code",
   "execution_count": 13,
   "metadata": {
    "ExecuteTime": {
     "end_time": "2019-05-28T20:15:41.372871Z",
     "start_time": "2019-05-28T20:15:40.260898Z"
    },
    "scrolled": true
   },
   "outputs": [
    {
     "data": {
      "text/plain": [
       "{'danceability': 0.599,\n",
       " 'energy': 0.759,\n",
       " 'key': 11,\n",
       " 'loudness': -6.879,\n",
       " 'mode': 0,\n",
       " 'speechiness': 0.0285,\n",
       " 'acousticness': 0.00669,\n",
       " 'instrumentalness': 0.000396,\n",
       " 'liveness': 0.16,\n",
       " 'valence': 0.36,\n",
       " 'tempo': 124.955,\n",
       " 'type': 'audio_features',\n",
       " 'id': '3xHM0KckpQ6duQ2NNcY4LM',\n",
       " 'uri': 'spotify:track:3xHM0KckpQ6duQ2NNcY4LM',\n",
       " 'track_href': 'https://api.spotify.com/v1/tracks/3xHM0KckpQ6duQ2NNcY4LM',\n",
       " 'analysis_url': 'https://api.spotify.com/v1/audio-analysis/3xHM0KckpQ6duQ2NNcY4LM',\n",
       " 'duration_ms': 286485,\n",
       " 'time_signature': 4}"
      ]
     },
     "metadata": {},
     "output_type": "display_data"
    }
   ],
   "source": [
    "from sklearn.neighbors import KNeighborsClassifier\n",
    "song = '3xHM0KckpQ6duQ2NNcY4LM' #Baris Akarsu- Islak Islak\n",
    "\n",
    "trackFeatures = getSongFeature(song)\n",
    "trackName = getSongName(song)\n",
    "trackFeature1 = trackFeatures.loc[0, feature1]\n",
    "trackFeature2 = trackFeatures.loc[0, feature2]\n",
    "#this array contains the values of our top two dissimilar features\n",
    "trackFeatureValues = [trackFeature1, trackFeature2] "
   ]
  },
  {
   "cell_type": "markdown",
   "metadata": {},
   "source": [
    "# Step 6: Make the actual prediction using KNN\n",
    "- make the prediction using K-Nearest Neighbors Algorithm and store that model into a variable *myModel*\n",
    "- then proceed to output the prediciton"
   ]
  },
  {
   "cell_type": "code",
   "execution_count": 14,
   "metadata": {
    "ExecuteTime": {
     "end_time": "2019-05-28T20:15:41.387763Z",
     "start_time": "2019-05-28T20:15:41.376628Z"
    }
   },
   "outputs": [],
   "source": [
    "myModel = KNNPredict(25, playlist1, playlist2, feature1, feature2, trackFeatureValues)"
   ]
  },
  {
   "cell_type": "code",
   "execution_count": 15,
   "metadata": {
    "ExecuteTime": {
     "end_time": "2019-05-28T20:15:41.397291Z",
     "start_time": "2019-05-28T20:15:41.390727Z"
    }
   },
   "outputs": [
    {
     "name": "stdout",
     "output_type": "stream",
     "text": [
      "Islak Islak' best belongs in 'Jazz Classics' playlist\n"
     ]
    }
   ],
   "source": [
    "if(myModel[0] == 1 ):\n",
    "    print(trackName + \"' best belongs in '\" + playlist1Name + \"' playlist\")\n",
    "else:\n",
    "    print(trackName + \"' best belongs in '\" + playlist2Name + \"' playlist\")"
   ]
  },
  {
   "cell_type": "markdown",
   "metadata": {},
   "source": [
    "## Plotting"
   ]
  },
  {
   "cell_type": "code",
   "execution_count": 16,
   "metadata": {
    "ExecuteTime": {
     "end_time": "2019-05-28T20:15:41.603559Z",
     "start_time": "2019-05-28T20:15:41.400184Z"
    },
    "scrolled": false
   },
   "outputs": [
    {
     "data": {
      "text/plain": [
       "<matplotlib.legend.Legend at 0x1188da710>"
      ]
     },
     "execution_count": 16,
     "metadata": {},
     "output_type": "execute_result"
    },
    {
     "data": {
      "image/png": "[encoded data removed]",
      "text/plain": [
       "<Figure size 432x288 with 1 Axes>"
      ]
     },
     "metadata": {
      "needs_background": "light"
     },
     "output_type": "display_data"
    }
   ],
   "source": [
    "myPlot = plotPlaylists(playlist1, playlist2, feature1, feature2)\n",
    "trackFeatureValues\n",
    "plt.scatter(trackFeatureValues[0], trackFeatureValues[1], c = \"b\")\n",
    "plt.legend([playlist1Name, playlist2Name,\"Input Song:\"+trackName])"
   ]
  },
  {
   "cell_type": "markdown",
   "metadata": {},
   "source": [
    "# Step 7: Homemade prediction\n",
    "- Calculate the difference of 3 most dissimilar features of playlist1 and playlist2 with the input song's 3 most dissimilar features"
   ]
  },
  {
   "cell_type": "code",
   "execution_count": 17,
   "metadata": {
    "ExecuteTime": {
     "end_time": "2019-05-28T20:15:41.643152Z",
     "start_time": "2019-05-28T20:15:41.607473Z"
    }
   },
   "outputs": [
    {
     "name": "stdout",
     "output_type": "stream",
     "text": [
      "[0.06824999999999992, 0.22455000000000014, 0.03637749999999999, 0.44319975, 0.10026534999999999, 0.013277499999999998, 0.3074999999999998]\n",
      "1.1934201\n"
     ]
    }
   ],
   "source": [
    "differenceFromPlaylist1 = [0,0,0,0,0,0,0]\n",
    "differenceSum = 0\n",
    "for x in range(0, 7):\n",
    "    differenceFromPlaylist1[x] = abs(playlist1DF.mean().values[x] - trackFeatures.mean().values[x])\n",
    "    differenceSum += differenceFromPlaylist1[x]\n",
    "print(differenceFromPlaylist1)\n",
    "print(differenceSum)"
   ]
  },
  {
   "cell_type": "code",
   "execution_count": 18,
   "metadata": {
    "ExecuteTime": {
     "end_time": "2019-05-28T20:15:41.679712Z",
     "start_time": "2019-05-28T20:15:41.646069Z"
    }
   },
   "outputs": [
    {
     "name": "stdout",
     "output_type": "stream",
     "text": [
      "[0.10369999999999996, 0.443656, 0.010151999999999998, 0.6875060000000001, 0.35467695439999997, 0.005907999999999941, 0.037075999999999776]\n",
      "1.6426749543999999\n"
     ]
    }
   ],
   "source": [
    "differenceFromPlaylist2 = [0,0,0,0,0,0,0]\n",
    "differenceSum2 = 0\n",
    "for x in range(0, 7):\n",
    "    differenceFromPlaylist2[x] = abs(playlist2DF.mean().values[x] - trackFeatures.mean().values[x])\n",
    "    differenceSum2 += differenceFromPlaylist2[x]\n",
    "print(differenceFromPlaylist2)\n",
    "print(differenceSum2)"
   ]
  },
  {
   "cell_type": "code",
   "execution_count": 19,
   "metadata": {
    "ExecuteTime": {
     "end_time": "2019-05-28T20:15:41.688758Z",
     "start_time": "2019-05-28T20:15:41.682790Z"
    }
   },
   "outputs": [
    {
     "name": "stdout",
     "output_type": "stream",
     "text": [
      "Islak Islak: Similarity to \"Anadolu Rock\" 82.95114142857143%\n"
     ]
    }
   ],
   "source": [
    "SimilarityToPlaylist1 = ((7-differenceSum)*100)/7\n",
    "print(trackName + ': Similarity to \"' + playlist1Name + '\" ' + str(SimilarityToPlaylist1) + '%')"
   ]
  },
  {
   "cell_type": "code",
   "execution_count": 20,
   "metadata": {
    "ExecuteTime": {
     "end_time": "2019-05-28T20:15:41.698782Z",
     "start_time": "2019-05-28T20:15:41.691886Z"
    }
   },
   "outputs": [
    {
     "name": "stdout",
     "output_type": "stream",
     "text": [
      "Islak Islak: Similarity to \"Jazz Classics\" 76.53321493714284%\n"
     ]
    }
   ],
   "source": [
    "SimilarityToPlaylist2 = ((7-differenceSum2)*100)/7\n",
    "print(trackName + ': Similarity to \"' + playlist2Name + '\" ' + str(SimilarityToPlaylist2) + '%')"
   ]
  },
  {
   "cell_type": "code",
   "execution_count": null,
   "metadata": {},
   "outputs": [],
   "source": []
  }
 ],
 "metadata": {
  "kernelspec": {
   "display_name": "Python 3",
   "language": "python",
   "name": "python3"
  },
  "language_info": {
   "codemirror_mode": {
    "name": "ipython",
    "version": 3
   },
   "file_extension": ".py",
   "mimetype": "text/x-python",
   "name": "python",
   "nbconvert_exporter": "python",
   "pygments_lexer": "ipython3",
   "version": "3.6.8"
  }
 },
 "nbformat": 4,
 "nbformat_minor": 2
}
