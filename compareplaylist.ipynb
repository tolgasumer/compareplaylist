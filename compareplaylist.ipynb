{
 "cells": [
  {
   "cell_type": "markdown",
   "metadata": {},
   "source": [
    "# Step 1: Import Packages"
   ]
  },
  {
   "cell_type": "code",
   "execution_count": 1,
   "metadata": {
    "ExecuteTime": {
     "end_time": "2019-04-08T16:30:47.488633Z",
     "start_time": "2019-04-08T16:30:46.708200Z"
    }
   },
   "outputs": [],
   "source": [
    "import sys\n",
    "import spotipy\n",
    "import spotipy.util as util\n",
    "import pandas as pd\n",
    "import numpy as np\n",
    "import matplotlib.pyplot as plt\n",
    "\n",
    "scope = 'user-library-read'\n",
    "token = util.prompt_for_user_token(\"11100316938\",scope,client_id='bddfdc9233b5493899809dcc42ca5cc3',client_secret='d97a1e581b5f4b4b9da348d6a0529e02',redirect_uri='http://localhost:5000/callback')\n",
    "spotify = spotipy.Spotify(auth = token)"
   ]
  },
  {
   "cell_type": "markdown",
   "metadata": {},
   "source": [
    "# Functions"
   ]
  },
  {
   "cell_type": "markdown",
   "metadata": {},
   "source": [
    "## getPlaylistFeatures()\n",
    " returns an array with DataFrame of Tracks and Name of playlist in the following tuple\n",
    "- (playlistDF, playlistName)"
   ]
  },
  {
   "cell_type": "code",
   "execution_count": 2,
   "metadata": {
    "ExecuteTime": {
     "end_time": "2019-04-08T16:30:47.502361Z",
     "start_time": "2019-04-08T16:30:47.490767Z"
    }
   },
   "outputs": [],
   "source": [
    "def getPlaylistFeatures(playlistURI, playlistNum):\n",
    "    \n",
    "    userPlaylistResponse = spotify.user_playlist(\"11100316938\", playlistURI)\n",
    "    playlistName = userPlaylistResponse[\"name\"]\n",
    "    \n",
    "    #tracks are returned in this JSON response\n",
    "    tracksResponse = spotify.user_playlist_tracks(\"11100316938\", playlistURI)\n",
    "    tracks = tracksResponse[\"items\"]\n",
    "    \n",
    "    #instantiate an empty array and place the Tracks URI in this array\n",
    "    tracksArray = [] \n",
    "    for track in tracks[:10]:\n",
    "        URI = track[\"track\"][\"id\"]\n",
    "        tracksArray.append(URI)\n",
    "    \n",
    "    dfArray = [] #empty array the DataFrame will intake\n",
    "    dfColumns = [\"trackURI\", \"danceability\", \"energy\", \"acousticness\", \"tempo\", \"valence\", \"loudness\", \"speechiness\", \"instrumentalness\", \"playlistNum\"] #columns that make DataFrame\n",
    "        \n",
    "    #code to iterate through each track URI and get its respective features\n",
    "    for trackURI in tracksArray:\n",
    "        trackFeatures = spotify.audio_features(trackURI)\n",
    "        \n",
    "        danceability = trackFeatures[0][\"danceability\"]\n",
    "        energy = trackFeatures[0][\"energy\"]\n",
    "        acousticness = trackFeatures[0][\"acousticness\"]\n",
    "        tempo = trackFeatures[0][\"tempo\"]\n",
    "        valence = trackFeatures[0][\"valence\"]\n",
    "        loudness = trackFeatures[0][\"loudness\"]\n",
    "        speechiness = trackFeatures[0][\"speechiness\"]\n",
    "        instrumentalness = trackFeatures[0][\"instrumentalness\"]\n",
    "        \n",
    "        tempArray = [trackURI, danceability, energy, acousticness, tempo, valence, loudness, speechiness, instrumentalness, playlistNum]\n",
    "        dfArray.append(tempArray)\n",
    "        \n",
    "    playlistDF = pd.DataFrame(dfArray, columns = dfColumns)\n",
    "    return (playlistDF, playlistName)\n"
   ]
  },
  {
   "cell_type": "markdown",
   "metadata": {},
   "source": [
    "# mostDissimilarFeatures(playlist1,playlist2)\n",
    "- returns a dataframe with the most dissimilar features in descending order\n",
    "- the dissimilarity is computed with Euclidean Distance between the means of each features respective to their playlist"
   ]
  },
  {
   "cell_type": "code",
   "execution_count": 3,
   "metadata": {
    "ExecuteTime": {
     "end_time": "2019-04-08T16:30:47.510897Z",
     "start_time": "2019-04-08T16:30:47.504935Z"
    }
   },
   "outputs": [],
   "source": [
    "def mostDissimilarFeatures(playlist1DF, playlist2DF):\n",
    "#     playlist1 = getPlaylistFeatures(playlist1, 1)\n",
    "#     playlist2 = getPlaylistFeatures(playlist2, 2)\n",
    "    \n",
    "    playlist1Mean = pd.DataFrame(playlist1DF[[\"danceability\", \"energy\", \"acousticness\", \"valence\", \"instrumentalness\", \"speechiness\"]].mean(), columns = [\"playlist1\"])\n",
    "    playlist2Mean = pd.DataFrame(playlist2DF[[\"danceability\", \"energy\", \"acousticness\", \"valence\", \"instrumentalness\", \"speechiness\"]].mean(), columns = [\"playlist2\"])\n",
    "\n",
    "    mergedMeans = playlist1Mean.join(playlist2Mean)\n",
    "    \n",
    "    differenced = mergedMeans.assign(absoluteDifference = lambda x: np.absolute(mergedMeans[\"playlist1\"] - mergedMeans[\"playlist2\"]))\n",
    "    differenced = differenced.sort_values(\"absoluteDifference\", ascending = False)\n",
    "\n",
    "    display(differenced)\n",
    "    playlist1Mean.plot(kind='bar')\n",
    "    playlist2Mean.plot(kind='bar')\n",
    "\n",
    "    topDissimilar = differenced.index\n",
    "    \n",
    "    return topDissimilar"
   ]
  },
  {
   "cell_type": "markdown",
   "metadata": {},
   "source": [
    "# plotPlaylists(playlist1, playlist2)\n",
    "- plots the top two dissimilar features amongsts the two playlist to help us visualize how different or similar they are"
   ]
  },
  {
   "cell_type": "code",
   "execution_count": 4,
   "metadata": {
    "ExecuteTime": {
     "end_time": "2019-04-08T16:30:47.520443Z",
     "start_time": "2019-04-08T16:30:47.514113Z"
    }
   },
   "outputs": [],
   "source": [
    "def plotPlaylists(playlist1, playlist2, feature1, feature2):\n",
    "#     feature1 = \"acousticness\"\n",
    "#     feature2 = \"instrumentalness\"\n",
    "\n",
    "    playlist1DF = playlist1[0]\n",
    "    playlist2DF = playlist2[0]\n",
    "    \n",
    "    playlist1Name = playlist1[1]\n",
    "    playlist2Name = playlist2[1]\n",
    "\n",
    "    plt.scatter(playlist1DF[feature1], playlist1DF[feature2], c = \"r\")\n",
    "    plt.scatter(playlist2DF[feature1], playlist2DF[feature2], c = \"g\")\n",
    "    plt.xlabel(feature1)\n",
    "    plt.ylabel(feature2)\n",
    "    plt.legend(labels = [playlist1Name, playlist2Name])\n",
    "    plt.show"
   ]
  },
  {
   "cell_type": "markdown",
   "metadata": {},
   "source": [
    "# KNNPredict(songURI, kNeighbors)\n",
    "- this function will take a user input a song and tell you which playlist the song best belongs to using K-Nearest Neighbors Algorithm that is built into SciKit Learn\n",
    "- Model is fitted from a dataFrame that contains the following:\n",
    "    - Input: [feature1, feature2]\n",
    "    - Output: Classification ... or which playlist those features belong to"
   ]
  },
  {
   "cell_type": "code",
   "execution_count": 5,
   "metadata": {
    "ExecuteTime": {
     "end_time": "2019-04-08T16:30:47.529378Z",
     "start_time": "2019-04-08T16:30:47.523273Z"
    }
   },
   "outputs": [],
   "source": [
    "def KNNPredict(kNeighbors, playlist1, playlist2, feature1, feature2, songFeatures):\n",
    "\n",
    "    merge = [playlist1[0],playlist2[0]] \n",
    "    dfMerge = pd.concat(merge)\n",
    "\n",
    "    features = dfMerge[[feature1,feature2]]\n",
    "    classification = dfMerge['playlistNum']\n",
    "    \n",
    "    model = KNeighborsClassifier(n_neighbors=kNeighbors)\n",
    "    model.fit(features, classification)\n",
    "    \n",
    "#     return(model)\n",
    "    return(model.predict([songFeatures]))"
   ]
  },
  {
   "cell_type": "markdown",
   "metadata": {},
   "source": [
    "# getSongFeatures(songURI)\n",
    "- gets the features from the song to analyze and then eventually predict.\n",
    "- returns a DataFrame of song features"
   ]
  },
  {
   "cell_type": "code",
   "execution_count": 6,
   "metadata": {
    "ExecuteTime": {
     "end_time": "2019-04-08T16:30:47.538794Z",
     "start_time": "2019-04-08T16:30:47.532027Z"
    }
   },
   "outputs": [],
   "source": [
    "def getSongFeature(songURI):\n",
    "    features = spotify.audio_features(songURI)\n",
    "    features = features[0]\n",
    "    \n",
    "    display(features)\n",
    "    \n",
    "    danceability = features[\"danceability\"]\n",
    "    energy = features[\"energy\"]\n",
    "    acousticness = features[\"acousticness\"]\n",
    "    tempo = features[\"tempo\"]\n",
    "    valence = features[\"valence\"]\n",
    "    loudness = features[\"loudness\"]\n",
    "    speechiness = features[\"speechiness\"]\n",
    "    instrumentalness = features[\"instrumentalness\"]\n",
    "    \n",
    "    dfArray = [danceability, energy, acousticness, tempo, valence, loudness, speechiness, instrumentalness] #empty array the DataFrame will intake\n",
    "    dfColumns = [\"danceability\", \"energy\", \"acousticness\", \"tempo\", \"valence\", \"loudness\", \"speechiness\", \"instrumentalness\"] #columns that make DataFrame\n",
    "    \n",
    "    trackFeatures = pd.DataFrame(dfArray, index = dfColumns)\n",
    "    trackFeatures = trackFeatures.transpose()\n",
    "    return(trackFeatures)"
   ]
  },
  {
   "cell_type": "markdown",
   "metadata": {},
   "source": [
    "# getSongName(songURI)"
   ]
  },
  {
   "cell_type": "code",
   "execution_count": 7,
   "metadata": {
    "ExecuteTime": {
     "end_time": "2019-04-08T16:30:47.543636Z",
     "start_time": "2019-04-08T16:30:47.540657Z"
    }
   },
   "outputs": [],
   "source": [
    "def getSongName(songURI):\n",
    "    trackName = (spotify.track(songURI)[\"name\"])\n",
    "    return(trackName)"
   ]
  },
  {
   "cell_type": "markdown",
   "metadata": {},
   "source": [
    "# Step 2: Input Playlist to Analyze"
   ]
  },
  {
   "cell_type": "code",
   "execution_count": 8,
   "metadata": {
    "ExecuteTime": {
     "end_time": "2019-04-08T16:30:47.550950Z",
     "start_time": "2019-04-08T16:30:47.547686Z"
    }
   },
   "outputs": [],
   "source": [
    "playlist1Input = '37i9dQZF1DX9bvVeeesP1m' #anadolu rock\n",
    "playlist2Input = '37i9dQZF1DXcZDD7cfEKhW' #dance pop"
   ]
  },
  {
   "cell_type": "markdown",
   "metadata": {},
   "source": [
    "# Step 3: Retrieve Playlists Information\n",
    "- Call the function to retrieve the tracks from each playlists and their features\n",
    "- We also get the playlist's name"
   ]
  },
  {
   "cell_type": "code",
   "execution_count": 9,
   "metadata": {
    "ExecuteTime": {
     "end_time": "2019-04-08T16:30:51.855321Z",
     "start_time": "2019-04-08T16:30:47.554060Z"
    }
   },
   "outputs": [],
   "source": [
    "playlist1 = getPlaylistFeatures(playlist1Input, 1)\n",
    "playlist2 = getPlaylistFeatures(playlist2Input, 2)\n",
    "\n",
    "#the variables above contain both a DataFrame and the name. We access them by parsing through the returned tuple\n",
    "playlist1DF = playlist1[0]\n",
    "playlist1Name = playlist1[1]\n",
    "\n",
    "playlist2DF = playlist2[0]\n",
    "playlist2Name = playlist2[1]"
   ]
  },
  {
   "cell_type": "code",
   "execution_count": 10,
   "metadata": {
    "ExecuteTime": {
     "end_time": "2019-04-08T16:30:51.909888Z",
     "start_time": "2019-04-08T16:30:51.857571Z"
    }
   },
   "outputs": [
    {
     "data": {
      "text/plain": [
       "'Anadolu Rock'"
      ]
     },
     "metadata": {},
     "output_type": "display_data"
    },
    {
     "data": {
      "text/html": [
       "<div>\n",
       "<style scoped>\n",
       "    .dataframe tbody tr th:only-of-type {\n",
       "        vertical-align: middle;\n",
       "    }\n",
       "\n",
       "    .dataframe tbody tr th {\n",
       "        vertical-align: top;\n",
       "    }\n",
       "\n",
       "    .dataframe thead th {\n",
       "        text-align: right;\n",
       "    }\n",
       "</style>\n",
       "<table border=\"1\" class=\"dataframe\">\n",
       "  <thead>\n",
       "    <tr style=\"text-align: right;\">\n",
       "      <th></th>\n",
       "      <th>trackURI</th>\n",
       "      <th>danceability</th>\n",
       "      <th>energy</th>\n",
       "      <th>acousticness</th>\n",
       "      <th>tempo</th>\n",
       "      <th>valence</th>\n",
       "      <th>loudness</th>\n",
       "      <th>speechiness</th>\n",
       "      <th>instrumentalness</th>\n",
       "      <th>playlistNum</th>\n",
       "    </tr>\n",
       "  </thead>\n",
       "  <tbody>\n",
       "    <tr>\n",
       "      <th>0</th>\n",
       "      <td>2Ejiv4HRKNxb76jt0FxCl1</td>\n",
       "      <td>0.469</td>\n",
       "      <td>0.486</td>\n",
       "      <td>0.149</td>\n",
       "      <td>130.737</td>\n",
       "      <td>0.595</td>\n",
       "      <td>-15.076</td>\n",
       "      <td>0.0427</td>\n",
       "      <td>0.000012</td>\n",
       "      <td>1</td>\n",
       "    </tr>\n",
       "    <tr>\n",
       "      <th>1</th>\n",
       "      <td>4NJk0lLs8yStxeTOcsrBAh</td>\n",
       "      <td>0.642</td>\n",
       "      <td>0.477</td>\n",
       "      <td>0.400</td>\n",
       "      <td>90.638</td>\n",
       "      <td>0.932</td>\n",
       "      <td>-15.201</td>\n",
       "      <td>0.0349</td>\n",
       "      <td>0.017700</td>\n",
       "      <td>1</td>\n",
       "    </tr>\n",
       "    <tr>\n",
       "      <th>2</th>\n",
       "      <td>4tC96bxgSFkA9tvPI0kCMb</td>\n",
       "      <td>0.413</td>\n",
       "      <td>0.427</td>\n",
       "      <td>0.694</td>\n",
       "      <td>101.426</td>\n",
       "      <td>0.231</td>\n",
       "      <td>-12.972</td>\n",
       "      <td>0.0649</td>\n",
       "      <td>0.096100</td>\n",
       "      <td>1</td>\n",
       "    </tr>\n",
       "    <tr>\n",
       "      <th>3</th>\n",
       "      <td>38iyncj06LC85KAp1hw5Zd</td>\n",
       "      <td>0.581</td>\n",
       "      <td>0.507</td>\n",
       "      <td>0.766</td>\n",
       "      <td>165.761</td>\n",
       "      <td>0.533</td>\n",
       "      <td>-9.778</td>\n",
       "      <td>0.0310</td>\n",
       "      <td>0.000000</td>\n",
       "      <td>1</td>\n",
       "    </tr>\n",
       "    <tr>\n",
       "      <th>4</th>\n",
       "      <td>0UHdubLzS9oftzvPz9uIDg</td>\n",
       "      <td>0.414</td>\n",
       "      <td>0.635</td>\n",
       "      <td>0.872</td>\n",
       "      <td>93.738</td>\n",
       "      <td>0.400</td>\n",
       "      <td>-6.312</td>\n",
       "      <td>0.0326</td>\n",
       "      <td>0.000142</td>\n",
       "      <td>1</td>\n",
       "    </tr>\n",
       "  </tbody>\n",
       "</table>\n",
       "</div>"
      ],
      "text/plain": [
       "                 trackURI  danceability  energy  acousticness    tempo  \\\n",
       "0  2Ejiv4HRKNxb76jt0FxCl1         0.469   0.486         0.149  130.737   \n",
       "1  4NJk0lLs8yStxeTOcsrBAh         0.642   0.477         0.400   90.638   \n",
       "2  4tC96bxgSFkA9tvPI0kCMb         0.413   0.427         0.694  101.426   \n",
       "3  38iyncj06LC85KAp1hw5Zd         0.581   0.507         0.766  165.761   \n",
       "4  0UHdubLzS9oftzvPz9uIDg         0.414   0.635         0.872   93.738   \n",
       "\n",
       "   valence  loudness  speechiness  instrumentalness  playlistNum  \n",
       "0    0.595   -15.076       0.0427          0.000012            1  \n",
       "1    0.932   -15.201       0.0349          0.017700            1  \n",
       "2    0.231   -12.972       0.0649          0.096100            1  \n",
       "3    0.533    -9.778       0.0310          0.000000            1  \n",
       "4    0.400    -6.312       0.0326          0.000142            1  "
      ]
     },
     "metadata": {},
     "output_type": "display_data"
    },
    {
     "data": {
      "text/plain": [
       "'Dance Pop'"
      ]
     },
     "metadata": {},
     "output_type": "display_data"
    },
    {
     "data": {
      "text/html": [
       "<div>\n",
       "<style scoped>\n",
       "    .dataframe tbody tr th:only-of-type {\n",
       "        vertical-align: middle;\n",
       "    }\n",
       "\n",
       "    .dataframe tbody tr th {\n",
       "        vertical-align: top;\n",
       "    }\n",
       "\n",
       "    .dataframe thead th {\n",
       "        text-align: right;\n",
       "    }\n",
       "</style>\n",
       "<table border=\"1\" class=\"dataframe\">\n",
       "  <thead>\n",
       "    <tr style=\"text-align: right;\">\n",
       "      <th></th>\n",
       "      <th>trackURI</th>\n",
       "      <th>danceability</th>\n",
       "      <th>energy</th>\n",
       "      <th>acousticness</th>\n",
       "      <th>tempo</th>\n",
       "      <th>valence</th>\n",
       "      <th>loudness</th>\n",
       "      <th>speechiness</th>\n",
       "      <th>instrumentalness</th>\n",
       "      <th>playlistNum</th>\n",
       "    </tr>\n",
       "  </thead>\n",
       "  <tbody>\n",
       "    <tr>\n",
       "      <th>0</th>\n",
       "      <td>6e0CvGZf7CouOpYF8toXHC</td>\n",
       "      <td>0.744</td>\n",
       "      <td>0.726</td>\n",
       "      <td>0.0399</td>\n",
       "      <td>121.985</td>\n",
       "      <td>0.687</td>\n",
       "      <td>-4.675</td>\n",
       "      <td>0.0463</td>\n",
       "      <td>0.000000</td>\n",
       "      <td>2</td>\n",
       "    </tr>\n",
       "    <tr>\n",
       "      <th>1</th>\n",
       "      <td>5icOoE6VgqFKohjWWNp0Ac</td>\n",
       "      <td>0.791</td>\n",
       "      <td>0.565</td>\n",
       "      <td>0.0623</td>\n",
       "      <td>99.961</td>\n",
       "      <td>0.181</td>\n",
       "      <td>-3.933</td>\n",
       "      <td>0.0439</td>\n",
       "      <td>0.000000</td>\n",
       "      <td>2</td>\n",
       "    </tr>\n",
       "    <tr>\n",
       "      <th>2</th>\n",
       "      <td>6MYshGKhcheOSGquz6NKbC</td>\n",
       "      <td>0.614</td>\n",
       "      <td>0.897</td>\n",
       "      <td>0.0621</td>\n",
       "      <td>124.029</td>\n",
       "      <td>0.453</td>\n",
       "      <td>-3.918</td>\n",
       "      <td>0.0762</td>\n",
       "      <td>0.000000</td>\n",
       "      <td>2</td>\n",
       "    </tr>\n",
       "    <tr>\n",
       "      <th>3</th>\n",
       "      <td>3uXHSf9sSIpOJWuC1H8DiU</td>\n",
       "      <td>0.775</td>\n",
       "      <td>0.867</td>\n",
       "      <td>0.0158</td>\n",
       "      <td>128.956</td>\n",
       "      <td>0.565</td>\n",
       "      <td>-7.388</td>\n",
       "      <td>0.2040</td>\n",
       "      <td>0.011700</td>\n",
       "      <td>2</td>\n",
       "    </tr>\n",
       "    <tr>\n",
       "      <th>4</th>\n",
       "      <td>43IWqSUbgHujwQ6YFGVPth</td>\n",
       "      <td>0.698</td>\n",
       "      <td>0.792</td>\n",
       "      <td>0.0296</td>\n",
       "      <td>125.976</td>\n",
       "      <td>0.333</td>\n",
       "      <td>-3.583</td>\n",
       "      <td>0.0418</td>\n",
       "      <td>0.000039</td>\n",
       "      <td>2</td>\n",
       "    </tr>\n",
       "  </tbody>\n",
       "</table>\n",
       "</div>"
      ],
      "text/plain": [
       "                 trackURI  danceability  energy  acousticness    tempo  \\\n",
       "0  6e0CvGZf7CouOpYF8toXHC         0.744   0.726        0.0399  121.985   \n",
       "1  5icOoE6VgqFKohjWWNp0Ac         0.791   0.565        0.0623   99.961   \n",
       "2  6MYshGKhcheOSGquz6NKbC         0.614   0.897        0.0621  124.029   \n",
       "3  3uXHSf9sSIpOJWuC1H8DiU         0.775   0.867        0.0158  128.956   \n",
       "4  43IWqSUbgHujwQ6YFGVPth         0.698   0.792        0.0296  125.976   \n",
       "\n",
       "   valence  loudness  speechiness  instrumentalness  playlistNum  \n",
       "0    0.687    -4.675       0.0463          0.000000            2  \n",
       "1    0.181    -3.933       0.0439          0.000000            2  \n",
       "2    0.453    -3.918       0.0762          0.000000            2  \n",
       "3    0.565    -7.388       0.2040          0.011700            2  \n",
       "4    0.333    -3.583       0.0418          0.000039            2  "
      ]
     },
     "metadata": {},
     "output_type": "display_data"
    }
   ],
   "source": [
    "display(playlist1Name)\n",
    "display(playlist1DF.head())\n",
    "\n",
    "display(playlist2Name)\n",
    "display(playlist2DF.head())"
   ]
  },
  {
   "cell_type": "markdown",
   "metadata": {},
   "source": [
    "# Step 3: Identify Most Dissimilar Features"
   ]
  },
  {
   "cell_type": "code",
   "execution_count": 11,
   "metadata": {
    "ExecuteTime": {
     "end_time": "2019-04-08T16:30:52.296990Z",
     "start_time": "2019-04-08T16:30:51.912563Z"
    }
   },
   "outputs": [
    {
     "data": {
      "text/html": [
       "<div>\n",
       "<style scoped>\n",
       "    .dataframe tbody tr th:only-of-type {\n",
       "        vertical-align: middle;\n",
       "    }\n",
       "\n",
       "    .dataframe tbody tr th {\n",
       "        vertical-align: top;\n",
       "    }\n",
       "\n",
       "    .dataframe thead th {\n",
       "        text-align: right;\n",
       "    }\n",
       "</style>\n",
       "<table border=\"1\" class=\"dataframe\">\n",
       "  <thead>\n",
       "    <tr style=\"text-align: right;\">\n",
       "      <th></th>\n",
       "      <th>playlist1</th>\n",
       "      <th>playlist2</th>\n",
       "      <th>absoluteDifference</th>\n",
       "    </tr>\n",
       "  </thead>\n",
       "  <tbody>\n",
       "    <tr>\n",
       "      <th>acousticness</th>\n",
       "      <td>0.411443</td>\n",
       "      <td>0.064019</td>\n",
       "      <td>0.347424</td>\n",
       "    </tr>\n",
       "    <tr>\n",
       "      <th>danceability</th>\n",
       "      <td>0.464400</td>\n",
       "      <td>0.687200</td>\n",
       "      <td>0.222800</td>\n",
       "    </tr>\n",
       "    <tr>\n",
       "      <th>energy</th>\n",
       "      <td>0.580900</td>\n",
       "      <td>0.755000</td>\n",
       "      <td>0.174100</td>\n",
       "    </tr>\n",
       "    <tr>\n",
       "      <th>valence</th>\n",
       "      <td>0.576500</td>\n",
       "      <td>0.462200</td>\n",
       "      <td>0.114300</td>\n",
       "    </tr>\n",
       "    <tr>\n",
       "      <th>instrumentalness</th>\n",
       "      <td>0.030303</td>\n",
       "      <td>0.001191</td>\n",
       "      <td>0.029113</td>\n",
       "    </tr>\n",
       "    <tr>\n",
       "      <th>speechiness</th>\n",
       "      <td>0.075310</td>\n",
       "      <td>0.090370</td>\n",
       "      <td>0.015060</td>\n",
       "    </tr>\n",
       "  </tbody>\n",
       "</table>\n",
       "</div>"
      ],
      "text/plain": [
       "                  playlist1  playlist2  absoluteDifference\n",
       "acousticness       0.411443   0.064019            0.347424\n",
       "danceability       0.464400   0.687200            0.222800\n",
       "energy             0.580900   0.755000            0.174100\n",
       "valence            0.576500   0.462200            0.114300\n",
       "instrumentalness   0.030303   0.001191            0.029113\n",
       "speechiness        0.075310   0.090370            0.015060"
      ]
     },
     "metadata": {},
     "output_type": "display_data"
    },
    {
     "data": {
      "image/png": "[encoded data removed]",
      "text/plain": [
       "<Figure size 432x288 with 1 Axes>"
      ]
     },
     "metadata": {
      "needs_background": "light"
     },
     "output_type": "display_data"
    },
    {
     "data": {
      "image/png": "[encoded data removed]",
      "text/plain": [
       "<Figure size 432x288 with 1 Axes>"
      ]
     },
     "metadata": {
      "needs_background": "light"
     },
     "output_type": "display_data"
    }
   ],
   "source": [
    "# we input the DataFrames for each playlist into the function\n",
    "mostDissimilar = mostDissimilarFeatures(playlist1DF, playlist2DF)\n",
    "\n",
    "# we only want the top 2 dissimilar features\n",
    "top2Dissimilar = mostDissimilar.values.tolist() #conver to list to access\n",
    "feature1 = top2Dissimilar[0]\n",
    "feature2 = top2Dissimilar[1]"
   ]
  },
  {
   "cell_type": "markdown",
   "metadata": {},
   "source": [
    "# Step 4: Plot Dissimilar Features"
   ]
  },
  {
   "cell_type": "code",
   "execution_count": 12,
   "metadata": {
    "ExecuteTime": {
     "end_time": "2019-04-08T16:30:52.302551Z",
     "start_time": "2019-04-08T16:30:52.299536Z"
    }
   },
   "outputs": [],
   "source": [
    "# feature1 = input(\"Feature #1 to analyze: \")\n",
    "# feature2 = input(\"Feature #2 to analyze: \")"
   ]
  },
  {
   "cell_type": "code",
   "execution_count": 13,
   "metadata": {
    "ExecuteTime": {
     "end_time": "2019-04-08T16:30:52.463313Z",
     "start_time": "2019-04-08T16:30:52.305651Z"
    }
   },
   "outputs": [
    {
     "data": {
      "image/png": "[encoded data removed]",
      "text/plain": [
       "<Figure size 432x288 with 1 Axes>"
      ]
     },
     "metadata": {
      "needs_background": "light"
     },
     "output_type": "display_data"
    }
   ],
   "source": [
    "plotPlaylists(playlist1, playlist2, feature1, feature2)"
   ]
  },
  {
   "cell_type": "markdown",
   "metadata": {},
   "source": [
    "# Step 5: Get Song Features\n",
    "- get the features of the song that we want to see where it belongs"
   ]
  },
  {
   "cell_type": "code",
   "execution_count": 14,
   "metadata": {
    "ExecuteTime": {
     "end_time": "2019-04-08T16:30:53.411174Z",
     "start_time": "2019-04-08T16:30:52.465429Z"
    },
    "scrolled": true
   },
   "outputs": [
    {
     "data": {
      "text/plain": [
       "{'danceability': 0.645,\n",
       " 'energy': 0.914,\n",
       " 'key': 0,\n",
       " 'loudness': -5.737,\n",
       " 'mode': 0,\n",
       " 'speechiness': 0.083,\n",
       " 'acousticness': 0.672,\n",
       " 'instrumentalness': 0.311,\n",
       " 'liveness': 0.123,\n",
       " 'valence': 0.632,\n",
       " 'tempo': 101.372,\n",
       " 'type': 'audio_features',\n",
       " 'id': '5mZLb0zrBBpyqhQKJ6c8Ov',\n",
       " 'uri': 'spotify:track:5mZLb0zrBBpyqhQKJ6c8Ov',\n",
       " 'track_href': 'https://api.spotify.com/v1/tracks/5mZLb0zrBBpyqhQKJ6c8Ov',\n",
       " 'analysis_url': 'https://api.spotify.com/v1/audio-analysis/5mZLb0zrBBpyqhQKJ6c8Ov',\n",
       " 'duration_ms': 366998,\n",
       " 'time_signature': 4}"
      ]
     },
     "metadata": {},
     "output_type": "display_data"
    },
    {
     "name": "stdout",
     "output_type": "stream",
     "text": [
      "[0.672, 0.645]\n"
     ]
    }
   ],
   "source": [
    "from sklearn.neighbors import KNeighborsClassifier\n",
    "song = '5mZLb0zrBBpyqhQKJ6c8Ov'\n",
    "\n",
    "trackFeatures = getSongFeature(song)\n",
    "trackName = getSongName(song)\n",
    "trackFeature1 = trackFeatures.loc[0, feature1]\n",
    "trackFeature2 = trackFeatures.loc[0, feature2]\n",
    "#this array contains the values of our top two dissimilar features\n",
    "trackFeatureValues = [trackFeature1, trackFeature2] \n",
    "\n",
    "print(trackFeatureValues)"
   ]
  },
  {
   "cell_type": "markdown",
   "metadata": {},
   "source": [
    "# Step 6: Make the actual prediction using KNN\n",
    "- make the prediction using K-Nearest Neighbors Algorithm and store that model into a variable *myModel*\n",
    "- then proceed to output the prediciton"
   ]
  },
  {
   "cell_type": "code",
   "execution_count": 15,
   "metadata": {
    "ExecuteTime": {
     "end_time": "2019-04-08T16:30:53.425559Z",
     "start_time": "2019-04-08T16:30:53.413973Z"
    }
   },
   "outputs": [],
   "source": [
    "myModel = KNNPredict(5, playlist1, playlist2, feature1, feature2, trackFeatureValues)"
   ]
  },
  {
   "cell_type": "code",
   "execution_count": 16,
   "metadata": {
    "ExecuteTime": {
     "end_time": "2019-04-08T16:30:53.433495Z",
     "start_time": "2019-04-08T16:30:53.428020Z"
    }
   },
   "outputs": [
    {
     "name": "stdout",
     "output_type": "stream",
     "text": [
      "Using the KNN Algorithm, 'Running Up That Hill' best belongs in 'Anadolu Rock' playlist\n"
     ]
    }
   ],
   "source": [
    "if(myModel[0] == 1 ):\n",
    "    print(\"Using the KNN Algorithm, '\" + trackName + \"' best belongs in '\" + playlist1Name + \"' playlist\")\n",
    "else:\n",
    "    print(\"Using the KNN Algorithm, '\" + trackName + \"' best belongs in '\" + playlist2Name + \"' playlist\")"
   ]
  },
  {
   "cell_type": "markdown",
   "metadata": {},
   "source": [
    "## Plotting"
   ]
  },
  {
   "cell_type": "code",
   "execution_count": 17,
   "metadata": {
    "ExecuteTime": {
     "end_time": "2019-04-08T16:30:53.623897Z",
     "start_time": "2019-04-08T16:30:53.437356Z"
    },
    "scrolled": false
   },
   "outputs": [
    {
     "data": {
      "text/plain": [
       "<matplotlib.legend.Legend at 0x1a197576d8>"
      ]
     },
     "execution_count": 17,
     "metadata": {},
     "output_type": "execute_result"
    },
    {
     "data": {
      "image/png": "[encoded data removed]",
      "text/plain": [
       "<Figure size 432x288 with 1 Axes>"
      ]
     },
     "metadata": {
      "needs_background": "light"
     },
     "output_type": "display_data"
    }
   ],
   "source": [
    "myPlot = plotPlaylists(playlist1, playlist2, feature1, feature2)\n",
    "trackFeatureValues\n",
    "plt.scatter(trackFeatureValues[0], trackFeatureValues[1], c = \"b\")\n",
    "plt.legend([playlist1Name, playlist2Name,\"Input Song\"])"
   ]
  }
 ],
 "metadata": {
  "kernelspec": {
   "display_name": "Python 3",
   "language": "python",
   "name": "python3"
  },
  "language_info": {
   "codemirror_mode": {
    "name": "ipython",
    "version": 3
   },
   "file_extension": ".py",
   "mimetype": "text/x-python",
   "name": "python",
   "nbconvert_exporter": "python",
   "pygments_lexer": "ipython3",
   "version": "3.6.8"
  }
 },
 "nbformat": 4,
 "nbformat_minor": 2
}
