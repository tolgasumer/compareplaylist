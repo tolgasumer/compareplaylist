{
 "cells": [
  {
   "cell_type": "markdown",
   "metadata": {},
   "source": [
    "# Step 1: Import Packages & Spotify Authentication"
   ]
  },
  {
   "cell_type": "code",
   "execution_count": 1,
   "metadata": {
    "ExecuteTime": {
     "end_time": "2019-05-01T19:18:03.316791Z",
     "start_time": "2019-05-01T19:18:02.231025Z"
    }
   },
   "outputs": [],
   "source": [
    "import sys\n",
    "import spotipy\n",
    "import spotipy.util as util\n",
    "import pandas as pd\n",
    "import numpy as np\n",
    "import matplotlib.pyplot as plt\n",
    "\n",
    "scope = 'user-library-read'\n",
    "token = util.prompt_for_user_token(\"11100316938\",scope,client_id='bddfdc9233b5493899809dcc42ca5cc3',client_secret='d97a1e581b5f4b4b9da348d6a0529e02',redirect_uri='http://localhost:5000/callback')\n",
    "spotify = spotipy.Spotify(auth = token)"
   ]
  },
  {
   "cell_type": "markdown",
   "metadata": {},
   "source": [
    "# Functions"
   ]
  },
  {
   "cell_type": "markdown",
   "metadata": {},
   "source": [
    "## getPlaylistFeatures()\n",
    " returns an array with DataFrame of Tracks and Name of playlist in the following tuple\n",
    "- (playlistDF, playlistName)"
   ]
  },
  {
   "cell_type": "code",
   "execution_count": 2,
   "metadata": {
    "ExecuteTime": {
     "end_time": "2019-05-01T19:18:03.328066Z",
     "start_time": "2019-05-01T19:18:03.319077Z"
    }
   },
   "outputs": [],
   "source": [
    "def getPlaylistFeatures(playlistURI, playlistNum):\n",
    "    \n",
    "    userPlaylistResponse = spotify.user_playlist(\"11100316938\", playlistURI)\n",
    "    playlistName = userPlaylistResponse[\"name\"]\n",
    "    \n",
    "    #tracks are returned in this JSON response\n",
    "    tracksResponse = spotify.user_playlist_tracks(\"11100316938\", playlistURI)\n",
    "    tracks = tracksResponse[\"items\"]\n",
    "    \n",
    "    #instantiate an empty array and place the Tracks URI in this array\n",
    "    tracksArray = [] \n",
    "    for track in tracks:\n",
    "        URI = track[\"track\"][\"id\"]\n",
    "        tracksArray.append(URI)\n",
    "    \n",
    "    dfArray = [] #empty array the DataFrame will intake\n",
    "    dfColumns = [\"trackURI\", \"danceability\", \"energy\", \"acousticness\", \"tempo\", \"valence\", \"loudness\", \"speechiness\", \"instrumentalness\", \"playlistNum\"] #columns that make DataFrame\n",
    "        \n",
    "    #code to iterate through each track URI and get its respective features\n",
    "    #slice 10\n",
    "    for trackURI in tracksArray:\n",
    "        trackFeatures = spotify.audio_features(trackURI)\n",
    "        \n",
    "        danceability = trackFeatures[0][\"danceability\"]\n",
    "        energy = trackFeatures[0][\"energy\"]\n",
    "        acousticness = trackFeatures[0][\"acousticness\"]\n",
    "        tempo = trackFeatures[0][\"tempo\"]\n",
    "        valence = trackFeatures[0][\"valence\"]\n",
    "        loudness = trackFeatures[0][\"loudness\"]\n",
    "        speechiness = trackFeatures[0][\"speechiness\"]\n",
    "        instrumentalness = trackFeatures[0][\"instrumentalness\"]\n",
    "        \n",
    "        tempArray = [trackURI, danceability, energy, acousticness, tempo, valence, loudness, speechiness, instrumentalness, playlistNum]\n",
    "        dfArray.append(tempArray)\n",
    "        \n",
    "    playlistDF = pd.DataFrame(dfArray, columns = dfColumns)\n",
    "    return (playlistDF, playlistName)\n"
   ]
  },
  {
   "cell_type": "markdown",
   "metadata": {},
   "source": [
    "# mostDissimilarFeatures(playlist1,playlist2)\n",
    "- returns a dataframe with the most dissimilar features in descending order\n",
    "- the dissimilarity is computed with Euclidean Distance between the means of each features respective to their playlist"
   ]
  },
  {
   "cell_type": "code",
   "execution_count": 3,
   "metadata": {
    "ExecuteTime": {
     "end_time": "2019-05-01T19:18:03.338327Z",
     "start_time": "2019-05-01T19:18:03.330942Z"
    }
   },
   "outputs": [],
   "source": [
    "def mostDissimilarFeatures(playlist1DF, playlist2DF):\n",
    "#     playlist1 = getPlaylistFeatures(playlist1, 1)\n",
    "#     playlist2 = getPlaylistFeatures(playlist2, 2)\n",
    "    \n",
    "    playlist1Mean = pd.DataFrame(playlist1DF[[\"danceability\", \"energy\", \"acousticness\", \"valence\", \"instrumentalness\", \"speechiness\"]].mean(), columns = [\"playlist1\"])\n",
    "    playlist2Mean = pd.DataFrame(playlist2DF[[\"danceability\", \"energy\", \"acousticness\", \"valence\", \"instrumentalness\", \"speechiness\"]].mean(), columns = [\"playlist2\"])\n",
    "\n",
    "    mergedMeans = playlist1Mean.join(playlist2Mean)\n",
    "    \n",
    "    differenced = mergedMeans.assign(absoluteDifference = lambda x: np.absolute(mergedMeans[\"playlist1\"] - mergedMeans[\"playlist2\"]))\n",
    "    differenced = differenced.sort_values(\"absoluteDifference\", ascending = False)\n",
    "\n",
    "    display(differenced)\n",
    "    playlist1Mean.plot(kind='bar')\n",
    "    playlist2Mean.plot(kind='bar')\n",
    "\n",
    "    topDissimilar = differenced.index\n",
    "    \n",
    "    return topDissimilar"
   ]
  },
  {
   "cell_type": "markdown",
   "metadata": {},
   "source": [
    "# plotPlaylists(playlist1, playlist2)\n",
    "- plots the top two dissimilar features amongsts the two playlist to help us visualize how different or similar they are"
   ]
  },
  {
   "cell_type": "code",
   "execution_count": 4,
   "metadata": {
    "ExecuteTime": {
     "end_time": "2019-05-01T19:18:03.347590Z",
     "start_time": "2019-05-01T19:18:03.341361Z"
    }
   },
   "outputs": [],
   "source": [
    "def plotPlaylists(playlist1, playlist2, feature1, feature2):\n",
    "#     feature1 = \"acousticness\"\n",
    "#     feature2 = \"instrumentalness\"\n",
    "\n",
    "    playlist1DF = playlist1[0]\n",
    "    playlist2DF = playlist2[0]\n",
    "    \n",
    "    playlist1Name = playlist1[1]\n",
    "    playlist2Name = playlist2[1]\n",
    "\n",
    "    plt.scatter(playlist1DF[feature1], playlist1DF[feature2], c = \"r\")\n",
    "    plt.scatter(playlist2DF[feature1], playlist2DF[feature2], c = \"g\")\n",
    "    plt.xlabel(feature1)\n",
    "    plt.ylabel(feature2)\n",
    "    plt.legend(labels = [playlist1Name, playlist2Name])\n",
    "    plt.show"
   ]
  },
  {
   "cell_type": "markdown",
   "metadata": {},
   "source": [
    "# KNNPredict(songURI, kNeighbors)\n",
    "- this function will take a user input a song and tell you which playlist the song best belongs to using K-Nearest Neighbors Algorithm that is built into SciKit Learn\n",
    "- Model is fitted from a dataFrame that contains the following:\n",
    "    - Input: [feature1, feature2]\n",
    "    - Output: Classification ... or which playlist those features belong to"
   ]
  },
  {
   "cell_type": "code",
   "execution_count": 5,
   "metadata": {
    "ExecuteTime": {
     "end_time": "2019-05-01T19:18:03.355289Z",
     "start_time": "2019-05-01T19:18:03.350383Z"
    }
   },
   "outputs": [],
   "source": [
    "def KNNPredict(kNeighbors, playlist1, playlist2, feature1, feature2, songFeatures):\n",
    "\n",
    "    merge = [playlist1[0],playlist2[0]] \n",
    "    dfMerge = pd.concat(merge)\n",
    "\n",
    "    features = dfMerge[[feature1,feature2]]\n",
    "    classification = dfMerge['playlistNum']\n",
    "    \n",
    "    model = KNeighborsClassifier(n_neighbors=kNeighbors)\n",
    "    model.fit(features, classification)\n",
    "    \n",
    "#     return(model)\n",
    "    return(model.predict([songFeatures]))"
   ]
  },
  {
   "cell_type": "markdown",
   "metadata": {},
   "source": [
    "# getSongFeatures(songURI)\n",
    "- gets the features from the song to analyze and then eventually predict.\n",
    "- returns a DataFrame of song features"
   ]
  },
  {
   "cell_type": "code",
   "execution_count": 6,
   "metadata": {
    "ExecuteTime": {
     "end_time": "2019-05-01T19:18:03.363672Z",
     "start_time": "2019-05-01T19:18:03.357983Z"
    }
   },
   "outputs": [],
   "source": [
    "def getSongFeature(songURI):\n",
    "    features = spotify.audio_features(songURI)\n",
    "    features = features[0]\n",
    "    \n",
    "    display(features)\n",
    "    \n",
    "    danceability = features[\"danceability\"]\n",
    "    energy = features[\"energy\"]\n",
    "    acousticness = features[\"acousticness\"]\n",
    "    tempo = features[\"tempo\"]\n",
    "    valence = features[\"valence\"]\n",
    "    loudness = features[\"loudness\"]\n",
    "    speechiness = features[\"speechiness\"]\n",
    "    instrumentalness = features[\"instrumentalness\"]\n",
    "    \n",
    "    dfArray = [danceability, energy, acousticness, tempo, valence, loudness, speechiness, instrumentalness] #empty array the DataFrame will intake\n",
    "    dfColumns = [\"danceability\", \"energy\", \"acousticness\", \"tempo\", \"valence\", \"loudness\", \"speechiness\", \"instrumentalness\"] #columns that make DataFrame\n",
    "    \n",
    "    trackFeatures = pd.DataFrame(dfArray, index = dfColumns)\n",
    "    trackFeatures = trackFeatures.transpose()\n",
    "    return(trackFeatures)"
   ]
  },
  {
   "cell_type": "markdown",
   "metadata": {},
   "source": [
    "# getSongName(songURI)"
   ]
  },
  {
   "cell_type": "code",
   "execution_count": 7,
   "metadata": {
    "ExecuteTime": {
     "end_time": "2019-05-01T19:18:03.368608Z",
     "start_time": "2019-05-01T19:18:03.365684Z"
    }
   },
   "outputs": [],
   "source": [
    "def getSongName(songURI):\n",
    "    trackName = (spotify.track(songURI)[\"name\"])\n",
    "    return(trackName)"
   ]
  },
  {
   "cell_type": "markdown",
   "metadata": {},
   "source": [
    "# Step 2: Input Playlist to Analyze\n",
    "- Using two Spotify featured playlists' playlistID's"
   ]
  },
  {
   "cell_type": "code",
   "execution_count": 8,
   "metadata": {
    "ExecuteTime": {
     "end_time": "2019-05-01T19:18:03.375476Z",
     "start_time": "2019-05-01T19:18:03.372077Z"
    }
   },
   "outputs": [],
   "source": [
    "playlist1Input = '296W1tgCGPvAjyCSSdiUsG' #slow rock\n",
    "playlist2Input = '37i9dQZF1DXcZDD7cfEKhW' #dance pop"
   ]
  },
  {
   "cell_type": "markdown",
   "metadata": {},
   "source": [
    "# Step 3: Retrieve Playlists Information\n",
    "- Call the function to retrieve the tracks from each playlists and their features\n",
    "- We also get the playlist's name"
   ]
  },
  {
   "cell_type": "code",
   "execution_count": 9,
   "metadata": {
    "ExecuteTime": {
     "end_time": "2019-05-01T19:18:35.909949Z",
     "start_time": "2019-05-01T19:18:03.379390Z"
    }
   },
   "outputs": [],
   "source": [
    "playlist1 = getPlaylistFeatures(playlist1Input, 1)\n",
    "playlist2 = getPlaylistFeatures(playlist2Input, 2)\n",
    "\n",
    "#the variables above contain both a DataFrame and the name. We access them by parsing through the returned tuple\n",
    "playlist1DF = playlist1[0]\n",
    "playlist1Name = playlist1[1]\n",
    "\n",
    "playlist2DF = playlist2[0]\n",
    "playlist2Name = playlist2[1]"
   ]
  },
  {
   "cell_type": "code",
   "execution_count": 10,
   "metadata": {
    "ExecuteTime": {
     "end_time": "2019-05-01T19:18:35.970073Z",
     "start_time": "2019-05-01T19:18:35.912061Z"
    }
   },
   "outputs": [
    {
     "data": {
      "text/plain": [
       "'Slow Rock (Greatest Hits)'"
      ]
     },
     "metadata": {},
     "output_type": "display_data"
    },
    {
     "data": {
      "text/html": [
       "<div>\n",
       "<style scoped>\n",
       "    .dataframe tbody tr th:only-of-type {\n",
       "        vertical-align: middle;\n",
       "    }\n",
       "\n",
       "    .dataframe tbody tr th {\n",
       "        vertical-align: top;\n",
       "    }\n",
       "\n",
       "    .dataframe thead th {\n",
       "        text-align: right;\n",
       "    }\n",
       "</style>\n",
       "<table border=\"1\" class=\"dataframe\">\n",
       "  <thead>\n",
       "    <tr style=\"text-align: right;\">\n",
       "      <th></th>\n",
       "      <th>trackURI</th>\n",
       "      <th>danceability</th>\n",
       "      <th>energy</th>\n",
       "      <th>acousticness</th>\n",
       "      <th>tempo</th>\n",
       "      <th>valence</th>\n",
       "      <th>loudness</th>\n",
       "      <th>speechiness</th>\n",
       "      <th>instrumentalness</th>\n",
       "      <th>playlistNum</th>\n",
       "    </tr>\n",
       "  </thead>\n",
       "  <tbody>\n",
       "    <tr>\n",
       "      <th>0</th>\n",
       "      <td>4YJ4n7DsZhR5hrnsMfn6zV</td>\n",
       "      <td>0.446</td>\n",
       "      <td>0.409</td>\n",
       "      <td>0.287</td>\n",
       "      <td>151.457</td>\n",
       "      <td>0.295</td>\n",
       "      <td>-14.817</td>\n",
       "      <td>0.0368</td>\n",
       "      <td>0.000000</td>\n",
       "      <td>1</td>\n",
       "    </tr>\n",
       "    <tr>\n",
       "      <th>1</th>\n",
       "      <td>4U6eiIdgTZlksnUKZbNPrX</td>\n",
       "      <td>0.600</td>\n",
       "      <td>0.766</td>\n",
       "      <td>0.344</td>\n",
       "      <td>114.422</td>\n",
       "      <td>0.352</td>\n",
       "      <td>-7.191</td>\n",
       "      <td>0.3240</td>\n",
       "      <td>0.000022</td>\n",
       "      <td>1</td>\n",
       "    </tr>\n",
       "    <tr>\n",
       "      <th>2</th>\n",
       "      <td>6Z435tBPT5JamUR9dN7y8y</td>\n",
       "      <td>0.486</td>\n",
       "      <td>0.487</td>\n",
       "      <td>0.445</td>\n",
       "      <td>81.972</td>\n",
       "      <td>0.373</td>\n",
       "      <td>-11.633</td>\n",
       "      <td>0.0341</td>\n",
       "      <td>0.000014</td>\n",
       "      <td>1</td>\n",
       "    </tr>\n",
       "    <tr>\n",
       "      <th>3</th>\n",
       "      <td>2yX3h3NRoMWGfnXxZlF92X</td>\n",
       "      <td>0.334</td>\n",
       "      <td>0.188</td>\n",
       "      <td>0.932</td>\n",
       "      <td>77.960</td>\n",
       "      <td>0.223</td>\n",
       "      <td>-11.461</td>\n",
       "      <td>0.0289</td>\n",
       "      <td>0.000002</td>\n",
       "      <td>1</td>\n",
       "    </tr>\n",
       "    <tr>\n",
       "      <th>4</th>\n",
       "      <td>5CQ30WqJwcep0pYcV4AMNc</td>\n",
       "      <td>0.338</td>\n",
       "      <td>0.340</td>\n",
       "      <td>0.580</td>\n",
       "      <td>82.433</td>\n",
       "      <td>0.197</td>\n",
       "      <td>-12.049</td>\n",
       "      <td>0.0339</td>\n",
       "      <td>0.003200</td>\n",
       "      <td>1</td>\n",
       "    </tr>\n",
       "  </tbody>\n",
       "</table>\n",
       "</div>"
      ],
      "text/plain": [
       "                 trackURI  danceability  energy  acousticness    tempo  \\\n",
       "0  4YJ4n7DsZhR5hrnsMfn6zV         0.446   0.409         0.287  151.457   \n",
       "1  4U6eiIdgTZlksnUKZbNPrX         0.600   0.766         0.344  114.422   \n",
       "2  6Z435tBPT5JamUR9dN7y8y         0.486   0.487         0.445   81.972   \n",
       "3  2yX3h3NRoMWGfnXxZlF92X         0.334   0.188         0.932   77.960   \n",
       "4  5CQ30WqJwcep0pYcV4AMNc         0.338   0.340         0.580   82.433   \n",
       "\n",
       "   valence  loudness  speechiness  instrumentalness  playlistNum  \n",
       "0    0.295   -14.817       0.0368          0.000000            1  \n",
       "1    0.352    -7.191       0.3240          0.000022            1  \n",
       "2    0.373   -11.633       0.0341          0.000014            1  \n",
       "3    0.223   -11.461       0.0289          0.000002            1  \n",
       "4    0.197   -12.049       0.0339          0.003200            1  "
      ]
     },
     "metadata": {},
     "output_type": "display_data"
    },
    {
     "data": {
      "text/plain": [
       "'Dance Pop'"
      ]
     },
     "metadata": {},
     "output_type": "display_data"
    },
    {
     "data": {
      "text/html": [
       "<div>\n",
       "<style scoped>\n",
       "    .dataframe tbody tr th:only-of-type {\n",
       "        vertical-align: middle;\n",
       "    }\n",
       "\n",
       "    .dataframe tbody tr th {\n",
       "        vertical-align: top;\n",
       "    }\n",
       "\n",
       "    .dataframe thead th {\n",
       "        text-align: right;\n",
       "    }\n",
       "</style>\n",
       "<table border=\"1\" class=\"dataframe\">\n",
       "  <thead>\n",
       "    <tr style=\"text-align: right;\">\n",
       "      <th></th>\n",
       "      <th>trackURI</th>\n",
       "      <th>danceability</th>\n",
       "      <th>energy</th>\n",
       "      <th>acousticness</th>\n",
       "      <th>tempo</th>\n",
       "      <th>valence</th>\n",
       "      <th>loudness</th>\n",
       "      <th>speechiness</th>\n",
       "      <th>instrumentalness</th>\n",
       "      <th>playlistNum</th>\n",
       "    </tr>\n",
       "  </thead>\n",
       "  <tbody>\n",
       "    <tr>\n",
       "      <th>0</th>\n",
       "      <td>6e0CvGZf7CouOpYF8toXHC</td>\n",
       "      <td>0.744</td>\n",
       "      <td>0.726</td>\n",
       "      <td>0.03990</td>\n",
       "      <td>121.985</td>\n",
       "      <td>0.687</td>\n",
       "      <td>-4.675</td>\n",
       "      <td>0.0463</td>\n",
       "      <td>0.000000</td>\n",
       "      <td>2</td>\n",
       "    </tr>\n",
       "    <tr>\n",
       "      <th>1</th>\n",
       "      <td>43IWqSUbgHujwQ6YFGVPth</td>\n",
       "      <td>0.698</td>\n",
       "      <td>0.792</td>\n",
       "      <td>0.02960</td>\n",
       "      <td>125.976</td>\n",
       "      <td>0.333</td>\n",
       "      <td>-3.583</td>\n",
       "      <td>0.0418</td>\n",
       "      <td>0.000039</td>\n",
       "      <td>2</td>\n",
       "    </tr>\n",
       "    <tr>\n",
       "      <th>2</th>\n",
       "      <td>7Feaw9WAEREY0DUOSXJLOM</td>\n",
       "      <td>0.726</td>\n",
       "      <td>0.722</td>\n",
       "      <td>0.17300</td>\n",
       "      <td>113.920</td>\n",
       "      <td>0.345</td>\n",
       "      <td>-7.007</td>\n",
       "      <td>0.0456</td>\n",
       "      <td>0.000010</td>\n",
       "      <td>2</td>\n",
       "    </tr>\n",
       "    <tr>\n",
       "      <th>3</th>\n",
       "      <td>0ywzvARVqoxQOJpaswRe9E</td>\n",
       "      <td>0.784</td>\n",
       "      <td>0.595</td>\n",
       "      <td>0.00476</td>\n",
       "      <td>124.019</td>\n",
       "      <td>0.183</td>\n",
       "      <td>-6.816</td>\n",
       "      <td>0.0413</td>\n",
       "      <td>0.007270</td>\n",
       "      <td>2</td>\n",
       "    </tr>\n",
       "    <tr>\n",
       "      <th>4</th>\n",
       "      <td>1hr5Y2i4NlE3LPvQZ9Q5Ao</td>\n",
       "      <td>0.679</td>\n",
       "      <td>0.909</td>\n",
       "      <td>0.03340</td>\n",
       "      <td>119.885</td>\n",
       "      <td>0.819</td>\n",
       "      <td>-2.929</td>\n",
       "      <td>0.1050</td>\n",
       "      <td>0.000000</td>\n",
       "      <td>2</td>\n",
       "    </tr>\n",
       "  </tbody>\n",
       "</table>\n",
       "</div>"
      ],
      "text/plain": [
       "                 trackURI  danceability  energy  acousticness    tempo  \\\n",
       "0  6e0CvGZf7CouOpYF8toXHC         0.744   0.726       0.03990  121.985   \n",
       "1  43IWqSUbgHujwQ6YFGVPth         0.698   0.792       0.02960  125.976   \n",
       "2  7Feaw9WAEREY0DUOSXJLOM         0.726   0.722       0.17300  113.920   \n",
       "3  0ywzvARVqoxQOJpaswRe9E         0.784   0.595       0.00476  124.019   \n",
       "4  1hr5Y2i4NlE3LPvQZ9Q5Ao         0.679   0.909       0.03340  119.885   \n",
       "\n",
       "   valence  loudness  speechiness  instrumentalness  playlistNum  \n",
       "0    0.687    -4.675       0.0463          0.000000            2  \n",
       "1    0.333    -3.583       0.0418          0.000039            2  \n",
       "2    0.345    -7.007       0.0456          0.000010            2  \n",
       "3    0.183    -6.816       0.0413          0.007270            2  \n",
       "4    0.819    -2.929       0.1050          0.000000            2  "
      ]
     },
     "metadata": {},
     "output_type": "display_data"
    }
   ],
   "source": [
    "display(playlist1Name)\n",
    "display(playlist1DF.head())\n",
    "\n",
    "display(playlist2Name)\n",
    "display(playlist2DF.head())"
   ]
  },
  {
   "cell_type": "markdown",
   "metadata": {},
   "source": [
    "# Step 3: Identify Most Dissimilar Features"
   ]
  },
  {
   "cell_type": "code",
   "execution_count": 11,
   "metadata": {
    "ExecuteTime": {
     "end_time": "2019-05-01T19:18:36.327707Z",
     "start_time": "2019-05-01T19:18:35.972860Z"
    }
   },
   "outputs": [
    {
     "data": {
      "text/html": [
       "<div>\n",
       "<style scoped>\n",
       "    .dataframe tbody tr th:only-of-type {\n",
       "        vertical-align: middle;\n",
       "    }\n",
       "\n",
       "    .dataframe tbody tr th {\n",
       "        vertical-align: top;\n",
       "    }\n",
       "\n",
       "    .dataframe thead th {\n",
       "        text-align: right;\n",
       "    }\n",
       "</style>\n",
       "<table border=\"1\" class=\"dataframe\">\n",
       "  <thead>\n",
       "    <tr style=\"text-align: right;\">\n",
       "      <th></th>\n",
       "      <th>playlist1</th>\n",
       "      <th>playlist2</th>\n",
       "      <th>absoluteDifference</th>\n",
       "    </tr>\n",
       "  </thead>\n",
       "  <tbody>\n",
       "    <tr>\n",
       "      <th>energy</th>\n",
       "      <td>0.506747</td>\n",
       "      <td>0.804937</td>\n",
       "      <td>0.298190</td>\n",
       "    </tr>\n",
       "    <tr>\n",
       "      <th>acousticness</th>\n",
       "      <td>0.270463</td>\n",
       "      <td>0.089748</td>\n",
       "      <td>0.180715</td>\n",
       "    </tr>\n",
       "    <tr>\n",
       "      <th>danceability</th>\n",
       "      <td>0.510241</td>\n",
       "      <td>0.667375</td>\n",
       "      <td>0.157134</td>\n",
       "    </tr>\n",
       "    <tr>\n",
       "      <th>valence</th>\n",
       "      <td>0.403375</td>\n",
       "      <td>0.451875</td>\n",
       "      <td>0.048500</td>\n",
       "    </tr>\n",
       "    <tr>\n",
       "      <th>speechiness</th>\n",
       "      <td>0.051887</td>\n",
       "      <td>0.090294</td>\n",
       "      <td>0.038406</td>\n",
       "    </tr>\n",
       "    <tr>\n",
       "      <th>instrumentalness</th>\n",
       "      <td>0.024486</td>\n",
       "      <td>0.021365</td>\n",
       "      <td>0.003121</td>\n",
       "    </tr>\n",
       "  </tbody>\n",
       "</table>\n",
       "</div>"
      ],
      "text/plain": [
       "                  playlist1  playlist2  absoluteDifference\n",
       "energy             0.506747   0.804937            0.298190\n",
       "acousticness       0.270463   0.089748            0.180715\n",
       "danceability       0.510241   0.667375            0.157134\n",
       "valence            0.403375   0.451875            0.048500\n",
       "speechiness        0.051887   0.090294            0.038406\n",
       "instrumentalness   0.024486   0.021365            0.003121"
      ]
     },
     "metadata": {},
     "output_type": "display_data"
    },
    {
     "data": {
      "image/png": "[encoded data removed]",
      "text/plain": [
       "<Figure size 432x288 with 1 Axes>"
      ]
     },
     "metadata": {
      "needs_background": "light"
     },
     "output_type": "display_data"
    },
    {
     "data": {
      "image/png": "[encoded data removed]",
      "text/plain": [
       "<Figure size 432x288 with 1 Axes>"
      ]
     },
     "metadata": {
      "needs_background": "light"
     },
     "output_type": "display_data"
    }
   ],
   "source": [
    "# we input the DataFrames for each playlist into the function\n",
    "mostDissimilar = mostDissimilarFeatures(playlist1DF, playlist2DF)\n",
    "\n",
    "# we only want the top 2 dissimilar features\n",
    "top2Dissimilar = mostDissimilar.values.tolist() #conver to list to access\n",
    "feature1 = top2Dissimilar[0]\n",
    "feature2 = top2Dissimilar[1]"
   ]
  },
  {
   "cell_type": "markdown",
   "metadata": {},
   "source": [
    "# Step 4: Plot Dissimilar Features"
   ]
  },
  {
   "cell_type": "code",
   "execution_count": 12,
   "metadata": {
    "ExecuteTime": {
     "end_time": "2019-05-01T19:18:36.333039Z",
     "start_time": "2019-05-01T19:18:36.330071Z"
    }
   },
   "outputs": [],
   "source": [
    "# feature1 = input(\"Feature #1 to analyze: \")\n",
    "# feature2 = input(\"Feature #2 to analyze: \")"
   ]
  },
  {
   "cell_type": "code",
   "execution_count": 13,
   "metadata": {
    "ExecuteTime": {
     "end_time": "2019-05-01T19:18:36.483730Z",
     "start_time": "2019-05-01T19:18:36.335892Z"
    }
   },
   "outputs": [
    {
     "data": {
      "image/png": "[encoded data removed]",
      "text/plain": [
       "<Figure size 432x288 with 1 Axes>"
      ]
     },
     "metadata": {
      "needs_background": "light"
     },
     "output_type": "display_data"
    }
   ],
   "source": [
    "plotPlaylists(playlist1, playlist2, feature1, feature2)"
   ]
  },
  {
   "cell_type": "markdown",
   "metadata": {},
   "source": [
    "# Step 5: Get Song Features\n",
    "- get the features of the song that we want to see where it belongs"
   ]
  },
  {
   "cell_type": "code",
   "execution_count": 14,
   "metadata": {
    "ExecuteTime": {
     "end_time": "2019-05-01T19:18:37.478473Z",
     "start_time": "2019-05-01T19:18:36.485889Z"
    },
    "scrolled": true
   },
   "outputs": [
    {
     "data": {
      "text/plain": [
       "{'danceability': 0.446,\n",
       " 'energy': 0.409,\n",
       " 'key': 0,\n",
       " 'loudness': -14.817,\n",
       " 'mode': 1,\n",
       " 'speechiness': 0.0368,\n",
       " 'acousticness': 0.287,\n",
       " 'instrumentalness': 0,\n",
       " 'liveness': 0.0788,\n",
       " 'valence': 0.295,\n",
       " 'tempo': 151.457,\n",
       " 'type': 'audio_features',\n",
       " 'id': '4YJ4n7DsZhR5hrnsMfn6zV',\n",
       " 'uri': 'spotify:track:4YJ4n7DsZhR5hrnsMfn6zV',\n",
       " 'track_href': 'https://api.spotify.com/v1/tracks/4YJ4n7DsZhR5hrnsMfn6zV',\n",
       " 'analysis_url': 'https://api.spotify.com/v1/audio-analysis/4YJ4n7DsZhR5hrnsMfn6zV',\n",
       " 'duration_ms': 313693,\n",
       " 'time_signature': 4}"
      ]
     },
     "metadata": {},
     "output_type": "display_data"
    }
   ],
   "source": [
    "from sklearn.neighbors import KNeighborsClassifier\n",
    "song = '4YJ4n7DsZhR5hrnsMfn6zV'\n",
    "\n",
    "trackFeatures = getSongFeature(song)\n",
    "trackName = getSongName(song)\n",
    "trackFeature1 = trackFeatures.loc[0, feature1]\n",
    "trackFeature2 = trackFeatures.loc[0, feature2]\n",
    "#this array contains the values of our top two dissimilar features\n",
    "trackFeatureValues = [trackFeature1, trackFeature2] "
   ]
  },
  {
   "cell_type": "markdown",
   "metadata": {},
   "source": [
    "# Step 6: Make the actual prediction using KNN\n",
    "- make the prediction using K-Nearest Neighbors Algorithm and store that model into a variable *myModel*\n",
    "- then proceed to output the prediciton"
   ]
  },
  {
   "cell_type": "code",
   "execution_count": 15,
   "metadata": {
    "ExecuteTime": {
     "end_time": "2019-05-01T19:18:37.490376Z",
     "start_time": "2019-05-01T19:18:37.480917Z"
    }
   },
   "outputs": [],
   "source": [
    "myModel = KNNPredict(25, playlist1, playlist2, feature1, feature2, trackFeatureValues)"
   ]
  },
  {
   "cell_type": "code",
   "execution_count": 16,
   "metadata": {
    "ExecuteTime": {
     "end_time": "2019-05-01T19:18:37.500163Z",
     "start_time": "2019-05-01T19:18:37.493619Z"
    }
   },
   "outputs": [
    {
     "name": "stdout",
     "output_type": "stream",
     "text": [
      "Wind Of Change' best belongs in 'Slow Rock (Greatest Hits)' playlist\n"
     ]
    }
   ],
   "source": [
    "if(myModel[0] == 1 ):\n",
    "    print(trackName + \"' best belongs in '\" + playlist1Name + \"' playlist\")\n",
    "else:\n",
    "    print(trackName + \"' best belongs in '\" + playlist2Name + \"' playlist\")"
   ]
  },
  {
   "cell_type": "markdown",
   "metadata": {},
   "source": [
    "## Plotting"
   ]
  },
  {
   "cell_type": "code",
   "execution_count": 17,
   "metadata": {
    "ExecuteTime": {
     "end_time": "2019-05-01T19:18:37.682751Z",
     "start_time": "2019-05-01T19:18:37.503665Z"
    },
    "scrolled": false
   },
   "outputs": [
    {
     "data": {
      "text/plain": [
       "<matplotlib.legend.Legend at 0x1a1b3a6be0>"
      ]
     },
     "execution_count": 17,
     "metadata": {},
     "output_type": "execute_result"
    },
    {
     "data": {
      "image/png": "[encoded data removed]",
      "text/plain": [
       "<Figure size 432x288 with 1 Axes>"
      ]
     },
     "metadata": {
      "needs_background": "light"
     },
     "output_type": "display_data"
    }
   ],
   "source": [
    "myPlot = plotPlaylists(playlist1, playlist2, feature1, feature2)\n",
    "trackFeatureValues\n",
    "plt.scatter(trackFeatureValues[0], trackFeatureValues[1], c = \"b\")\n",
    "plt.legend([playlist1Name, playlist2Name,\"Input Song\"])"
   ]
  },
  {
   "cell_type": "markdown",
   "metadata": {},
   "source": [
    "# Step 7: Homemade prediction\n",
    "- Calculate the difference of 3 most dissimilar features of playlist1 and playlist2 with the input song's 3 most dissimilar features"
   ]
  },
  {
   "cell_type": "code",
   "execution_count": 18,
   "metadata": {
    "ExecuteTime": {
     "end_time": "2019-05-01T19:18:37.694609Z",
     "start_time": "2019-05-01T19:18:37.685005Z"
    }
   },
   "outputs": [
    {
     "name": "stdout",
     "output_type": "stream",
     "text": [
      "[array([0.09774713]), array([0.01653701]), array([0.06424138])]\n",
      "[0.17852552]\n"
     ]
    }
   ],
   "source": [
    "differenceFromPlaylist1 = [0,0,0]\n",
    "differenceSum = 0\n",
    "for x in range(0, 3):\n",
    "    differenceFromPlaylist1[x] = abs(playlist1DF[top2Dissimilar[x]].mean() - trackFeatures[top2Dissimilar[x]].values)\n",
    "    differenceSum += differenceFromPlaylist1[x]\n",
    "print(differenceFromPlaylist1)\n",
    "print(differenceSum)"
   ]
  },
  {
   "cell_type": "code",
   "execution_count": 19,
   "metadata": {
    "ExecuteTime": {
     "end_time": "2019-05-01T19:18:37.705354Z",
     "start_time": "2019-05-01T19:18:37.698034Z"
    }
   },
   "outputs": [
    {
     "name": "stdout",
     "output_type": "stream",
     "text": [
      "[array([0.3959375]), array([0.19725205]), array([0.221375])]\n",
      "[0.81456455]\n"
     ]
    }
   ],
   "source": [
    "differenceFromPlaylist2 = [0,0,0]\n",
    "differenceSum2 = 0\n",
    "for x in range(0, 3):\n",
    "    differenceFromPlaylist2[x] = abs(playlist2DF[top2Dissimilar[x]].mean() - trackFeatures[top2Dissimilar[x]].values)\n",
    "    differenceSum2 += differenceFromPlaylist2[x]\n",
    "print(differenceFromPlaylist2)\n",
    "print(differenceSum2)"
   ]
  },
  {
   "cell_type": "code",
   "execution_count": 20,
   "metadata": {
    "ExecuteTime": {
     "end_time": "2019-05-01T19:18:37.715351Z",
     "start_time": "2019-05-01T19:18:37.708053Z"
    }
   },
   "outputs": [
    {
     "name": "stdout",
     "output_type": "stream",
     "text": [
      "Similarity to playlist 1: 94.04914942528734%\n"
     ]
    }
   ],
   "source": [
    "SimilarityToPlaylist1 = ((3-differenceSum)*100)/3\n",
    "print('Similarity to playlist 1: ' + str(SimilarityToPlaylist1[0]) + '%')"
   ]
  },
  {
   "cell_type": "code",
   "execution_count": 21,
   "metadata": {
    "ExecuteTime": {
     "end_time": "2019-05-01T19:18:37.723333Z",
     "start_time": "2019-05-01T19:18:37.717887Z"
    }
   },
   "outputs": [
    {
     "name": "stdout",
     "output_type": "stream",
     "text": [
      "Similarity to playlist 2: 72.84784833333333%\n"
     ]
    }
   ],
   "source": [
    "SimilarityToPlaylist2 = ((3-differenceSum2)*100)/3\n",
    "print('Similarity to playlist 2: ' + str(SimilarityToPlaylist2[0]) + '%')"
   ]
  },
  {
   "cell_type": "code",
   "execution_count": null,
   "metadata": {},
   "outputs": [],
   "source": []
  }
 ],
 "metadata": {
  "kernelspec": {
   "display_name": "Python 3",
   "language": "python",
   "name": "python3"
  },
  "language_info": {
   "codemirror_mode": {
    "name": "ipython",
    "version": 3
   },
   "file_extension": ".py",
   "mimetype": "text/x-python",
   "name": "python",
   "nbconvert_exporter": "python",
   "pygments_lexer": "ipython3",
   "version": "3.6.8"
  }
 },
 "nbformat": 4,
 "nbformat_minor": 2
}
