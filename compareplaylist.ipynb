{
 "cells": [
  {
   "cell_type": "markdown",
   "metadata": {},
   "source": [
    "# Step 1: Import Packages & Spotify Authentication"
   ]
  },
  {
   "cell_type": "code",
   "execution_count": 1,
   "metadata": {
    "ExecuteTime": {
     "end_time": "2019-05-14T21:05:49.855616Z",
     "start_time": "2019-05-14T21:05:49.062938Z"
    }
   },
   "outputs": [],
   "source": [
    "import sys\n",
    "import spotipy\n",
    "import spotipy.util as util\n",
    "import pandas as pd\n",
    "import numpy as np\n",
    "import matplotlib.pyplot as plt\n",
    "\n",
    "scope = 'user-library-read'\n",
    "token = util.prompt_for_user_token(\"11100316938\",scope,client_id='bddfdc9233b5493899809dcc42ca5cc3',client_secret='d97a1e581b5f4b4b9da348d6a0529e02',redirect_uri='http://localhost:5000/callback')\n",
    "spotify = spotipy.Spotify(auth = token)"
   ]
  },
  {
   "cell_type": "markdown",
   "metadata": {},
   "source": [
    "# Functions"
   ]
  },
  {
   "cell_type": "markdown",
   "metadata": {},
   "source": [
    "## getPlaylistFeatures()\n",
    " returns an array with DataFrame of Tracks and Name of playlist in the following tuple\n",
    "- (playlistDF, playlistName)"
   ]
  },
  {
   "cell_type": "code",
   "execution_count": 2,
   "metadata": {
    "ExecuteTime": {
     "end_time": "2019-05-14T21:05:49.866131Z",
     "start_time": "2019-05-14T21:05:49.857653Z"
    }
   },
   "outputs": [],
   "source": [
    "def getPlaylistFeatures(playlistURI, playlistNum):\n",
    "    \n",
    "    userPlaylistResponse = spotify.user_playlist(\"11100316938\", playlistURI)\n",
    "    playlistName = userPlaylistResponse[\"name\"]\n",
    "    \n",
    "    #tracks are returned in this JSON response\n",
    "    tracksResponse = spotify.user_playlist_tracks(\"11100316938\", playlistURI)\n",
    "    tracks = tracksResponse[\"items\"]\n",
    "    \n",
    "    #instantiate an empty array and place the Tracks URI in this array\n",
    "    tracksArray = [] \n",
    "    for track in tracks:\n",
    "        URI = track[\"track\"][\"id\"]\n",
    "        tracksArray.append(URI)\n",
    "    \n",
    "    dfArray = [] #empty array the DataFrame will intake\n",
    "    dfColumns = [\"trackURI\", \"danceability\", \"energy\", \"speechiness\", \"acousticness\", \"instrumentalness\", \"liveness\", \"valence\", \"playlistNum\"] #columns that make DataFrame\n",
    "        \n",
    "    #code to iterate through each track URI and get its respective features\n",
    "    for trackURI in tracksArray:\n",
    "        trackFeatures = spotify.audio_features(trackURI)\n",
    "        \n",
    "        danceability = trackFeatures[0][\"danceability\"]\n",
    "        energy = trackFeatures[0][\"energy\"]\n",
    "        speechiness = trackFeatures[0][\"speechiness\"]\n",
    "        acousticness = trackFeatures[0][\"acousticness\"]\n",
    "        instrumentalness = trackFeatures[0][\"instrumentalness\"]\n",
    "        liveness = trackFeatures[0][\"liveness\"]\n",
    "        valence = trackFeatures[0][\"valence\"]\n",
    "        \n",
    "        tempArray = [trackURI, danceability, energy, speechiness, acousticness, instrumentalness, liveness, valence, playlistNum]\n",
    "        dfArray.append(tempArray)\n",
    "        \n",
    "    playlistDF = pd.DataFrame(dfArray, columns = dfColumns)\n",
    "    return (playlistDF, playlistName)\n"
   ]
  },
  {
   "cell_type": "markdown",
   "metadata": {},
   "source": [
    "# mostDissimilarFeatures(playlist1,playlist2)\n",
    "- returns a dataframe with the most dissimilar features in descending order\n",
    "- the dissimilarity is computed with Euclidean Distance between the means of each features respective to their playlist"
   ]
  },
  {
   "cell_type": "code",
   "execution_count": 3,
   "metadata": {
    "ExecuteTime": {
     "end_time": "2019-05-14T21:05:49.876049Z",
     "start_time": "2019-05-14T21:05:49.869696Z"
    }
   },
   "outputs": [],
   "source": [
    "def mostDissimilarFeatures(playlist1DF, playlist2DF):\n",
    "#     playlist1 = getPlaylistFeatures(playlist1, 1)\n",
    "#     playlist2 = getPlaylistFeatures(playlist2, 2)\n",
    "    \n",
    "    playlist1Mean = pd.DataFrame(playlist1DF[[\"danceability\", \"energy\", \"speechiness\", \"acousticness\", \"instrumentalness\", \"liveness\", \"valence\"]].mean(), columns = [\"playlist1\"])\n",
    "    playlist2Mean = pd.DataFrame(playlist2DF[[\"danceability\", \"energy\", \"speechiness\", \"acousticness\", \"instrumentalness\", \"liveness\", \"valence\"]].mean(), columns = [\"playlist2\"])\n",
    "\n",
    "    mergedMeans = playlist1Mean.join(playlist2Mean)\n",
    "    \n",
    "    differenced = mergedMeans.assign(absoluteDifference = lambda x: np.absolute(mergedMeans[\"playlist1\"] - mergedMeans[\"playlist2\"]))\n",
    "    differenced = differenced.sort_values(\"absoluteDifference\", ascending = False)\n",
    "\n",
    "    display(differenced)\n",
    "    playlist1Mean.plot(kind='bar')\n",
    "    playlist2Mean.plot(kind='bar')\n",
    "\n",
    "    topDissimilar = differenced.index\n",
    "    \n",
    "    return topDissimilar"
   ]
  },
  {
   "cell_type": "markdown",
   "metadata": {},
   "source": [
    "# plotPlaylists(playlist1, playlist2)\n",
    "- plots the top two dissimilar features amongsts the two playlist to help us visualize how different or similar they are"
   ]
  },
  {
   "cell_type": "code",
   "execution_count": 4,
   "metadata": {
    "ExecuteTime": {
     "end_time": "2019-05-14T21:05:49.884355Z",
     "start_time": "2019-05-14T21:05:49.879042Z"
    }
   },
   "outputs": [],
   "source": [
    "def plotPlaylists(playlist1, playlist2, feature1, feature2):\n",
    "#     feature1 = \"acousticness\"\n",
    "#     feature2 = \"instrumentalness\"\n",
    "\n",
    "    playlist1DF = playlist1[0]\n",
    "    playlist2DF = playlist2[0]\n",
    "    \n",
    "    playlist1Name = playlist1[1]\n",
    "    playlist2Name = playlist2[1]\n",
    "\n",
    "    plt.scatter(playlist1DF[feature1], playlist1DF[feature2], c = \"r\")\n",
    "    plt.scatter(playlist2DF[feature1], playlist2DF[feature2], c = \"g\")\n",
    "    plt.xlabel(feature1)\n",
    "    plt.ylabel(feature2)\n",
    "    plt.legend(labels = [playlist1Name, playlist2Name])\n",
    "    plt.show"
   ]
  },
  {
   "cell_type": "markdown",
   "metadata": {},
   "source": [
    "# KNNPredict(songURI, kNeighbors)\n",
    "- this function will take a user input a song and tell you which playlist the song best belongs to using K-Nearest Neighbors Algorithm that is built into SciKit Learn\n",
    "- Model is fitted from a dataFrame that contains the following:\n",
    "    - Input: [feature1, feature2]\n",
    "    - Output: Classification ... or which playlist those features belong to"
   ]
  },
  {
   "cell_type": "code",
   "execution_count": 5,
   "metadata": {
    "ExecuteTime": {
     "end_time": "2019-05-14T21:05:49.892421Z",
     "start_time": "2019-05-14T21:05:49.887037Z"
    }
   },
   "outputs": [],
   "source": [
    "def KNNPredict(kNeighbors, playlist1, playlist2, feature1, feature2, songFeatures):\n",
    "\n",
    "    merge = [playlist1[0],playlist2[0]] \n",
    "    dfMerge = pd.concat(merge)\n",
    "\n",
    "    features = dfMerge[[feature1,feature2]]\n",
    "    classification = dfMerge['playlistNum']\n",
    "    \n",
    "    model = KNeighborsClassifier(n_neighbors=kNeighbors)\n",
    "    model.fit(features, classification)\n",
    "    \n",
    "#     return(model)\n",
    "    return(model.predict([songFeatures]))"
   ]
  },
  {
   "cell_type": "markdown",
   "metadata": {},
   "source": [
    "# getSongFeatures(songURI)\n",
    "- gets the features from the song to analyze and then eventually predict.\n",
    "- returns a DataFrame of song features"
   ]
  },
  {
   "cell_type": "code",
   "execution_count": 6,
   "metadata": {
    "ExecuteTime": {
     "end_time": "2019-05-14T21:05:49.902153Z",
     "start_time": "2019-05-14T21:05:49.894997Z"
    }
   },
   "outputs": [],
   "source": [
    "def getSongFeature(songURI):\n",
    "    features = spotify.audio_features(songURI)\n",
    "    features = features[0]\n",
    "    \n",
    "    display(features)\n",
    "    \n",
    "    danceability = features[\"danceability\"]\n",
    "    energy = features[\"energy\"]\n",
    "    speechiness = features[\"speechiness\"]\n",
    "    acousticness = features[\"acousticness\"]\n",
    "    instrumentalness = features[\"instrumentalness\"]\n",
    "    liveness = features[\"liveness\"]\n",
    "    valence = features[\"valence\"]\n",
    "    \n",
    "    dfArray = [danceability, energy, speechiness, acousticness, instrumentalness, liveness, valence] #empty array the DataFrame will intake\n",
    "    dfColumns = [\"danceability\", \"energy\", \"speechiness\", \"acousticness\", \"instrumentalness\", \"liveness\", \"valence\"] #columns that make DataFrame\n",
    "    \n",
    "    trackFeatures = pd.DataFrame(dfArray, index = dfColumns)\n",
    "    trackFeatures = trackFeatures.transpose()\n",
    "    return(trackFeatures)"
   ]
  },
  {
   "cell_type": "markdown",
   "metadata": {},
   "source": [
    "# getSongName(songURI)"
   ]
  },
  {
   "cell_type": "code",
   "execution_count": 7,
   "metadata": {
    "ExecuteTime": {
     "end_time": "2019-05-14T21:05:49.908210Z",
     "start_time": "2019-05-14T21:05:49.904096Z"
    }
   },
   "outputs": [],
   "source": [
    "def getSongName(songURI):\n",
    "    trackName = (spotify.track(songURI)[\"name\"])\n",
    "    return(trackName)"
   ]
  },
  {
   "cell_type": "markdown",
   "metadata": {},
   "source": [
    "# Step 2: Input Playlist to Analyze\n",
    "- Using two Spotify featured playlists' playlistID's"
   ]
  },
  {
   "cell_type": "code",
   "execution_count": 8,
   "metadata": {
    "ExecuteTime": {
     "end_time": "2019-05-14T21:05:49.915639Z",
     "start_time": "2019-05-14T21:05:49.911763Z"
    }
   },
   "outputs": [],
   "source": [
    "playlist1Input = '296W1tgCGPvAjyCSSdiUsG' #slow rock\n",
    "playlist2Input = '37i9dQZF1DXcZDD7cfEKhW' #dance pop"
   ]
  },
  {
   "cell_type": "markdown",
   "metadata": {},
   "source": [
    "# Step 3: Retrieve Playlists Information\n",
    "- Call the function to retrieve the tracks from each playlists and their features\n",
    "- We also get the playlist's name"
   ]
  },
  {
   "cell_type": "code",
   "execution_count": 9,
   "metadata": {
    "ExecuteTime": {
     "end_time": "2019-05-14T21:06:22.016310Z",
     "start_time": "2019-05-14T21:05:49.919904Z"
    }
   },
   "outputs": [],
   "source": [
    "playlist1 = getPlaylistFeatures(playlist1Input, 1)\n",
    "playlist2 = getPlaylistFeatures(playlist2Input, 2)\n",
    "\n",
    "#the variables above contain both a DataFrame and the name. We access them by parsing through the returned tuple\n",
    "playlist1DF = playlist1[0]\n",
    "playlist1Name = playlist1[1]\n",
    "\n",
    "playlist2DF = playlist2[0]\n",
    "playlist2Name = playlist2[1]"
   ]
  },
  {
   "cell_type": "code",
   "execution_count": 10,
   "metadata": {
    "ExecuteTime": {
     "end_time": "2019-05-14T21:06:22.093562Z",
     "start_time": "2019-05-14T21:06:22.018519Z"
    }
   },
   "outputs": [
    {
     "data": {
      "text/plain": [
       "'Slow Rock (Greatest Hits)'"
      ]
     },
     "metadata": {},
     "output_type": "display_data"
    },
    {
     "data": {
      "text/html": [
       "<div>\n",
       "<style scoped>\n",
       "    .dataframe tbody tr th:only-of-type {\n",
       "        vertical-align: middle;\n",
       "    }\n",
       "\n",
       "    .dataframe tbody tr th {\n",
       "        vertical-align: top;\n",
       "    }\n",
       "\n",
       "    .dataframe thead th {\n",
       "        text-align: right;\n",
       "    }\n",
       "</style>\n",
       "<table border=\"1\" class=\"dataframe\">\n",
       "  <thead>\n",
       "    <tr style=\"text-align: right;\">\n",
       "      <th></th>\n",
       "      <th>trackURI</th>\n",
       "      <th>danceability</th>\n",
       "      <th>energy</th>\n",
       "      <th>speechiness</th>\n",
       "      <th>acousticness</th>\n",
       "      <th>instrumentalness</th>\n",
       "      <th>liveness</th>\n",
       "      <th>valence</th>\n",
       "      <th>playlistNum</th>\n",
       "    </tr>\n",
       "  </thead>\n",
       "  <tbody>\n",
       "    <tr>\n",
       "      <th>0</th>\n",
       "      <td>4YJ4n7DsZhR5hrnsMfn6zV</td>\n",
       "      <td>0.446</td>\n",
       "      <td>0.409</td>\n",
       "      <td>0.0368</td>\n",
       "      <td>0.2870</td>\n",
       "      <td>0.000000</td>\n",
       "      <td>0.0788</td>\n",
       "      <td>0.295</td>\n",
       "      <td>1</td>\n",
       "    </tr>\n",
       "    <tr>\n",
       "      <th>1</th>\n",
       "      <td>6Z435tBPT5JamUR9dN7y8y</td>\n",
       "      <td>0.486</td>\n",
       "      <td>0.487</td>\n",
       "      <td>0.0341</td>\n",
       "      <td>0.4450</td>\n",
       "      <td>0.000014</td>\n",
       "      <td>0.0648</td>\n",
       "      <td>0.373</td>\n",
       "      <td>1</td>\n",
       "    </tr>\n",
       "    <tr>\n",
       "      <th>2</th>\n",
       "      <td>2yX3h3NRoMWGfnXxZlF92X</td>\n",
       "      <td>0.334</td>\n",
       "      <td>0.188</td>\n",
       "      <td>0.0289</td>\n",
       "      <td>0.9320</td>\n",
       "      <td>0.000002</td>\n",
       "      <td>0.1220</td>\n",
       "      <td>0.223</td>\n",
       "      <td>1</td>\n",
       "    </tr>\n",
       "    <tr>\n",
       "      <th>3</th>\n",
       "      <td>5CQ30WqJwcep0pYcV4AMNc</td>\n",
       "      <td>0.338</td>\n",
       "      <td>0.340</td>\n",
       "      <td>0.0339</td>\n",
       "      <td>0.5800</td>\n",
       "      <td>0.003200</td>\n",
       "      <td>0.1160</td>\n",
       "      <td>0.197</td>\n",
       "      <td>1</td>\n",
       "    </tr>\n",
       "    <tr>\n",
       "      <th>4</th>\n",
       "      <td>4glXFaeaoBGLrh0lbe5Dgk</td>\n",
       "      <td>0.411</td>\n",
       "      <td>0.452</td>\n",
       "      <td>0.2220</td>\n",
       "      <td>0.0387</td>\n",
       "      <td>0.000003</td>\n",
       "      <td>0.0928</td>\n",
       "      <td>0.460</td>\n",
       "      <td>1</td>\n",
       "    </tr>\n",
       "  </tbody>\n",
       "</table>\n",
       "</div>"
      ],
      "text/plain": [
       "                 trackURI  danceability  energy  speechiness  acousticness  \\\n",
       "0  4YJ4n7DsZhR5hrnsMfn6zV         0.446   0.409       0.0368        0.2870   \n",
       "1  6Z435tBPT5JamUR9dN7y8y         0.486   0.487       0.0341        0.4450   \n",
       "2  2yX3h3NRoMWGfnXxZlF92X         0.334   0.188       0.0289        0.9320   \n",
       "3  5CQ30WqJwcep0pYcV4AMNc         0.338   0.340       0.0339        0.5800   \n",
       "4  4glXFaeaoBGLrh0lbe5Dgk         0.411   0.452       0.2220        0.0387   \n",
       "\n",
       "   instrumentalness  liveness  valence  playlistNum  \n",
       "0          0.000000    0.0788    0.295            1  \n",
       "1          0.000014    0.0648    0.373            1  \n",
       "2          0.000002    0.1220    0.223            1  \n",
       "3          0.003200    0.1160    0.197            1  \n",
       "4          0.000003    0.0928    0.460            1  "
      ]
     },
     "metadata": {},
     "output_type": "display_data"
    },
    {
     "data": {
      "text/plain": [
       "'Dance Pop'"
      ]
     },
     "metadata": {},
     "output_type": "display_data"
    },
    {
     "data": {
      "text/html": [
       "<div>\n",
       "<style scoped>\n",
       "    .dataframe tbody tr th:only-of-type {\n",
       "        vertical-align: middle;\n",
       "    }\n",
       "\n",
       "    .dataframe tbody tr th {\n",
       "        vertical-align: top;\n",
       "    }\n",
       "\n",
       "    .dataframe thead th {\n",
       "        text-align: right;\n",
       "    }\n",
       "</style>\n",
       "<table border=\"1\" class=\"dataframe\">\n",
       "  <thead>\n",
       "    <tr style=\"text-align: right;\">\n",
       "      <th></th>\n",
       "      <th>trackURI</th>\n",
       "      <th>danceability</th>\n",
       "      <th>energy</th>\n",
       "      <th>speechiness</th>\n",
       "      <th>acousticness</th>\n",
       "      <th>instrumentalness</th>\n",
       "      <th>liveness</th>\n",
       "      <th>valence</th>\n",
       "      <th>playlistNum</th>\n",
       "    </tr>\n",
       "  </thead>\n",
       "  <tbody>\n",
       "    <tr>\n",
       "      <th>0</th>\n",
       "      <td>6e0CvGZf7CouOpYF8toXHC</td>\n",
       "      <td>0.744</td>\n",
       "      <td>0.726</td>\n",
       "      <td>0.0463</td>\n",
       "      <td>0.0399</td>\n",
       "      <td>0.000000</td>\n",
       "      <td>0.3740</td>\n",
       "      <td>0.687</td>\n",
       "      <td>2</td>\n",
       "    </tr>\n",
       "    <tr>\n",
       "      <th>1</th>\n",
       "      <td>1hZ7LSB05aNMX2Nw73DFiR</td>\n",
       "      <td>0.968</td>\n",
       "      <td>0.677</td>\n",
       "      <td>0.2070</td>\n",
       "      <td>0.0306</td>\n",
       "      <td>0.000000</td>\n",
       "      <td>0.0852</td>\n",
       "      <td>0.767</td>\n",
       "      <td>2</td>\n",
       "    </tr>\n",
       "    <tr>\n",
       "      <th>2</th>\n",
       "      <td>3TjLsDgL0bTbSQIF6M5Ki8</td>\n",
       "      <td>0.678</td>\n",
       "      <td>0.747</td>\n",
       "      <td>0.1650</td>\n",
       "      <td>0.0395</td>\n",
       "      <td>0.000000</td>\n",
       "      <td>0.1740</td>\n",
       "      <td>0.516</td>\n",
       "      <td>2</td>\n",
       "    </tr>\n",
       "    <tr>\n",
       "      <th>3</th>\n",
       "      <td>3jwQwGVERUXo7eaAgL1xAo</td>\n",
       "      <td>0.493</td>\n",
       "      <td>0.773</td>\n",
       "      <td>0.1570</td>\n",
       "      <td>0.4290</td>\n",
       "      <td>0.000007</td>\n",
       "      <td>0.0807</td>\n",
       "      <td>0.301</td>\n",
       "      <td>2</td>\n",
       "    </tr>\n",
       "    <tr>\n",
       "      <th>4</th>\n",
       "      <td>7Feaw9WAEREY0DUOSXJLOM</td>\n",
       "      <td>0.726</td>\n",
       "      <td>0.722</td>\n",
       "      <td>0.0456</td>\n",
       "      <td>0.1730</td>\n",
       "      <td>0.000010</td>\n",
       "      <td>0.1410</td>\n",
       "      <td>0.345</td>\n",
       "      <td>2</td>\n",
       "    </tr>\n",
       "  </tbody>\n",
       "</table>\n",
       "</div>"
      ],
      "text/plain": [
       "                 trackURI  danceability  energy  speechiness  acousticness  \\\n",
       "0  6e0CvGZf7CouOpYF8toXHC         0.744   0.726       0.0463        0.0399   \n",
       "1  1hZ7LSB05aNMX2Nw73DFiR         0.968   0.677       0.2070        0.0306   \n",
       "2  3TjLsDgL0bTbSQIF6M5Ki8         0.678   0.747       0.1650        0.0395   \n",
       "3  3jwQwGVERUXo7eaAgL1xAo         0.493   0.773       0.1570        0.4290   \n",
       "4  7Feaw9WAEREY0DUOSXJLOM         0.726   0.722       0.0456        0.1730   \n",
       "\n",
       "   instrumentalness  liveness  valence  playlistNum  \n",
       "0          0.000000    0.3740    0.687            2  \n",
       "1          0.000000    0.0852    0.767            2  \n",
       "2          0.000000    0.1740    0.516            2  \n",
       "3          0.000007    0.0807    0.301            2  \n",
       "4          0.000010    0.1410    0.345            2  "
      ]
     },
     "metadata": {},
     "output_type": "display_data"
    }
   ],
   "source": [
    "display(playlist1Name)\n",
    "display(playlist1DF.head())\n",
    "\n",
    "display(playlist2Name)\n",
    "display(playlist2DF.head())"
   ]
  },
  {
   "cell_type": "markdown",
   "metadata": {},
   "source": [
    "# Step 3: Identify Most Dissimilar Features"
   ]
  },
  {
   "cell_type": "code",
   "execution_count": 11,
   "metadata": {
    "ExecuteTime": {
     "end_time": "2019-05-14T21:06:22.470069Z",
     "start_time": "2019-05-14T21:06:22.096137Z"
    }
   },
   "outputs": [
    {
     "data": {
      "text/html": [
       "<div>\n",
       "<style scoped>\n",
       "    .dataframe tbody tr th:only-of-type {\n",
       "        vertical-align: middle;\n",
       "    }\n",
       "\n",
       "    .dataframe tbody tr th {\n",
       "        vertical-align: top;\n",
       "    }\n",
       "\n",
       "    .dataframe thead th {\n",
       "        text-align: right;\n",
       "    }\n",
       "</style>\n",
       "<table border=\"1\" class=\"dataframe\">\n",
       "  <thead>\n",
       "    <tr style=\"text-align: right;\">\n",
       "      <th></th>\n",
       "      <th>playlist1</th>\n",
       "      <th>playlist2</th>\n",
       "      <th>absoluteDifference</th>\n",
       "    </tr>\n",
       "  </thead>\n",
       "  <tbody>\n",
       "    <tr>\n",
       "      <th>energy</th>\n",
       "      <td>0.519283</td>\n",
       "      <td>0.804549</td>\n",
       "      <td>0.285267</td>\n",
       "    </tr>\n",
       "    <tr>\n",
       "      <th>acousticness</th>\n",
       "      <td>0.258716</td>\n",
       "      <td>0.092297</td>\n",
       "      <td>0.166420</td>\n",
       "    </tr>\n",
       "    <tr>\n",
       "      <th>danceability</th>\n",
       "      <td>0.519228</td>\n",
       "      <td>0.661692</td>\n",
       "      <td>0.142464</td>\n",
       "    </tr>\n",
       "    <tr>\n",
       "      <th>valence</th>\n",
       "      <td>0.405374</td>\n",
       "      <td>0.454725</td>\n",
       "      <td>0.049351</td>\n",
       "    </tr>\n",
       "    <tr>\n",
       "      <th>liveness</th>\n",
       "      <td>0.150155</td>\n",
       "      <td>0.197941</td>\n",
       "      <td>0.047785</td>\n",
       "    </tr>\n",
       "    <tr>\n",
       "      <th>speechiness</th>\n",
       "      <td>0.050800</td>\n",
       "      <td>0.091090</td>\n",
       "      <td>0.040290</td>\n",
       "    </tr>\n",
       "    <tr>\n",
       "      <th>instrumentalness</th>\n",
       "      <td>0.023639</td>\n",
       "      <td>0.021233</td>\n",
       "      <td>0.002406</td>\n",
       "    </tr>\n",
       "  </tbody>\n",
       "</table>\n",
       "</div>"
      ],
      "text/plain": [
       "                  playlist1  playlist2  absoluteDifference\n",
       "energy             0.519283   0.804549            0.285267\n",
       "acousticness       0.258716   0.092297            0.166420\n",
       "danceability       0.519228   0.661692            0.142464\n",
       "valence            0.405374   0.454725            0.049351\n",
       "liveness           0.150155   0.197941            0.047785\n",
       "speechiness        0.050800   0.091090            0.040290\n",
       "instrumentalness   0.023639   0.021233            0.002406"
      ]
     },
     "metadata": {},
     "output_type": "display_data"
    },
    {
     "data": {
      "image/png": "[encoded data removed]",
      "text/plain": [
       "<Figure size 432x288 with 1 Axes>"
      ]
     },
     "metadata": {
      "needs_background": "light"
     },
     "output_type": "display_data"
    },
    {
     "data": {
      "image/png": "[encoded data removed]",
      "text/plain": [
       "<Figure size 432x288 with 1 Axes>"
      ]
     },
     "metadata": {
      "needs_background": "light"
     },
     "output_type": "display_data"
    }
   ],
   "source": [
    "# we input the DataFrames for each playlist into the function\n",
    "mostDissimilar = mostDissimilarFeatures(playlist1DF, playlist2DF)\n",
    "\n",
    "# we only want the top 2 dissimilar features\n",
    "top2Dissimilar = mostDissimilar.values.tolist() #conver to list to access\n",
    "feature1 = top2Dissimilar[0]\n",
    "feature2 = top2Dissimilar[1]"
   ]
  },
  {
   "cell_type": "markdown",
   "metadata": {},
   "source": [
    "# Step 4: Plot Dissimilar Features"
   ]
  },
  {
   "cell_type": "code",
   "execution_count": 12,
   "metadata": {
    "ExecuteTime": {
     "end_time": "2019-05-14T21:06:22.627021Z",
     "start_time": "2019-05-14T21:06:22.472371Z"
    }
   },
   "outputs": [
    {
     "data": {
      "image/png": "[encoded data removed]",
      "text/plain": [
       "<Figure size 432x288 with 1 Axes>"
      ]
     },
     "metadata": {
      "needs_background": "light"
     },
     "output_type": "display_data"
    }
   ],
   "source": [
    "plotPlaylists(playlist1, playlist2, feature1, feature2)"
   ]
  },
  {
   "cell_type": "markdown",
   "metadata": {},
   "source": [
    "# Step 5: Get Song Features\n",
    "- get the features of the song that we want to see where it belongs"
   ]
  },
  {
   "cell_type": "code",
   "execution_count": 13,
   "metadata": {
    "ExecuteTime": {
     "end_time": "2019-05-14T21:06:23.592606Z",
     "start_time": "2019-05-14T21:06:22.629544Z"
    },
    "scrolled": true
   },
   "outputs": [
    {
     "data": {
      "text/plain": [
       "{'danceability': 0.299,\n",
       " 'energy': 0.526,\n",
       " 'key': 8,\n",
       " 'loudness': -12.091,\n",
       " 'mode': 0,\n",
       " 'speechiness': 0.323,\n",
       " 'acousticness': 0.558,\n",
       " 'instrumentalness': 5.57e-05,\n",
       " 'liveness': 0.0801,\n",
       " 'valence': 0.663,\n",
       " 'tempo': 197.677,\n",
       " 'type': 'audio_features',\n",
       " 'id': '46X0rddXGD4C5CJOBmHQqD',\n",
       " 'uri': 'spotify:track:46X0rddXGD4C5CJOBmHQqD',\n",
       " 'track_href': 'https://api.spotify.com/v1/tracks/46X0rddXGD4C5CJOBmHQqD',\n",
       " 'analysis_url': 'https://api.spotify.com/v1/audio-analysis/46X0rddXGD4C5CJOBmHQqD',\n",
       " 'duration_ms': 298253,\n",
       " 'time_signature': 3}"
      ]
     },
     "metadata": {},
     "output_type": "display_data"
    }
   ],
   "source": [
    "from sklearn.neighbors import KNeighborsClassifier\n",
    "song = '46X0rddXGD4C5CJOBmHQqD' #Cem Karaca - Tamirci Ciragi\n",
    "\n",
    "trackFeatures = getSongFeature(song)\n",
    "trackName = getSongName(song)\n",
    "trackFeature1 = trackFeatures.loc[0, feature1]\n",
    "trackFeature2 = trackFeatures.loc[0, feature2]\n",
    "#this array contains the values of our top two dissimilar features\n",
    "trackFeatureValues = [trackFeature1, trackFeature2] "
   ]
  },
  {
   "cell_type": "markdown",
   "metadata": {},
   "source": [
    "# Step 6: Make the actual prediction using KNN\n",
    "- make the prediction using K-Nearest Neighbors Algorithm and store that model into a variable *myModel*\n",
    "- then proceed to output the prediciton"
   ]
  },
  {
   "cell_type": "code",
   "execution_count": 14,
   "metadata": {
    "ExecuteTime": {
     "end_time": "2019-05-14T21:06:23.610189Z",
     "start_time": "2019-05-14T21:06:23.594921Z"
    }
   },
   "outputs": [],
   "source": [
    "myModel = KNNPredict(25, playlist1, playlist2, feature1, feature2, trackFeatureValues)"
   ]
  },
  {
   "cell_type": "code",
   "execution_count": 15,
   "metadata": {
    "ExecuteTime": {
     "end_time": "2019-05-14T21:06:23.619545Z",
     "start_time": "2019-05-14T21:06:23.613051Z"
    }
   },
   "outputs": [
    {
     "name": "stdout",
     "output_type": "stream",
     "text": [
      "Tamirci Çırağı' best belongs in 'Slow Rock (Greatest Hits)' playlist\n"
     ]
    }
   ],
   "source": [
    "if(myModel[0] == 1 ):\n",
    "    print(trackName + \"' best belongs in '\" + playlist1Name + \"' playlist\")\n",
    "else:\n",
    "    print(trackName + \"' best belongs in '\" + playlist2Name + \"' playlist\")"
   ]
  },
  {
   "cell_type": "markdown",
   "metadata": {},
   "source": [
    "## Plotting"
   ]
  },
  {
   "cell_type": "code",
   "execution_count": 16,
   "metadata": {
    "ExecuteTime": {
     "end_time": "2019-05-14T21:06:23.808815Z",
     "start_time": "2019-05-14T21:06:23.624709Z"
    },
    "scrolled": false
   },
   "outputs": [
    {
     "data": {
      "text/plain": [
       "<matplotlib.legend.Legend at 0x1a1a3fd940>"
      ]
     },
     "execution_count": 16,
     "metadata": {},
     "output_type": "execute_result"
    },
    {
     "data": {
      "image/png": "[encoded data removed]",
      "text/plain": [
       "<Figure size 432x288 with 1 Axes>"
      ]
     },
     "metadata": {
      "needs_background": "light"
     },
     "output_type": "display_data"
    }
   ],
   "source": [
    "myPlot = plotPlaylists(playlist1, playlist2, feature1, feature2)\n",
    "trackFeatureValues\n",
    "plt.scatter(trackFeatureValues[0], trackFeatureValues[1], c = \"b\")\n",
    "plt.legend([playlist1Name, playlist2Name,\"Input Song\"])"
   ]
  },
  {
   "cell_type": "markdown",
   "metadata": {},
   "source": [
    "# Step 7: Homemade prediction\n",
    "- Calculate the difference of 3 most dissimilar features of playlist1 and playlist2 with the input song's 3 most dissimilar features"
   ]
  },
  {
   "cell_type": "code",
   "execution_count": 17,
   "metadata": {
    "ExecuteTime": {
     "end_time": "2019-05-14T21:06:23.845283Z",
     "start_time": "2019-05-14T21:06:23.811517Z"
    }
   },
   "outputs": [
    {
     "name": "stdout",
     "output_type": "stream",
     "text": [
      "[0.22022826086956532, 0.006717391304347897, 0.2722, 0.29928361956521754, 0.023583106739130423, 0.07005543478260867, 0.25762608695652156]\n",
      "1.1496939002173914\n"
     ]
    }
   ],
   "source": [
    "differenceFromPlaylist1 = [0,0,0,0,0,0,0]\n",
    "differenceSum = 0\n",
    "for x in range(0, 7):\n",
    "    differenceFromPlaylist1[x] = abs(playlist1DF.mean().values[x] - trackFeatures.mean().values[x])\n",
    "    differenceSum += differenceFromPlaylist1[x]\n",
    "print(differenceFromPlaylist1)\n",
    "print(differenceSum)"
   ]
  },
  {
   "cell_type": "code",
   "execution_count": 18,
   "metadata": {
    "ExecuteTime": {
     "end_time": "2019-05-14T21:06:23.879365Z",
     "start_time": "2019-05-14T21:06:23.847893Z"
    }
   },
   "outputs": [
    {
     "name": "stdout",
     "output_type": "stream",
     "text": [
      "[0.3626923076923079, 0.27854945054945, 0.23190989010989013, 0.46570338461538463, 0.02117686703296703, 0.11784065934065932, 0.20827472527472535]\n",
      "1.6861472846153847\n"
     ]
    }
   ],
   "source": [
    "differenceFromPlaylist2 = [0,0,0,0,0,0,0]\n",
    "differenceSum2 = 0\n",
    "for x in range(0, 7):\n",
    "    differenceFromPlaylist2[x] = abs(playlist2DF.mean().values[x] - trackFeatures.mean().values[x])\n",
    "    differenceSum2 += differenceFromPlaylist2[x]\n",
    "print(differenceFromPlaylist2)\n",
    "print(differenceSum2)"
   ]
  },
  {
   "cell_type": "code",
   "execution_count": 25,
   "metadata": {
    "ExecuteTime": {
     "end_time": "2019-05-14T21:09:16.991622Z",
     "start_time": "2019-05-14T21:09:16.983715Z"
    }
   },
   "outputs": [
    {
     "name": "stdout",
     "output_type": "stream",
     "text": [
      "Tamirci Çırağı: Similarity to \"Slow Rock (Greatest Hits)\" 83.57580142546583%\n"
     ]
    }
   ],
   "source": [
    "SimilarityToPlaylist1 = ((7-differenceSum)*100)/7\n",
    "print(trackName + ': Similarity to \"' + playlist1Name + '\" ' + str(SimilarityToPlaylist1) + '%')"
   ]
  },
  {
   "cell_type": "code",
   "execution_count": 26,
   "metadata": {
    "ExecuteTime": {
     "end_time": "2019-05-14T21:09:37.545596Z",
     "start_time": "2019-05-14T21:09:37.540425Z"
    }
   },
   "outputs": [
    {
     "name": "stdout",
     "output_type": "stream",
     "text": [
      "Tamirci Çırağı: Similarity to \"Dance Pop\" 75.91218164835165%\n"
     ]
    }
   ],
   "source": [
    "SimilarityToPlaylist2 = ((7-differenceSum2)*100)/7\n",
    "print(trackName + ': Similarity to \"' + playlist2Name + '\" ' + str(SimilarityToPlaylist2) + '%')"
   ]
  },
  {
   "cell_type": "code",
   "execution_count": null,
   "metadata": {},
   "outputs": [],
   "source": []
  }
 ],
 "metadata": {
  "kernelspec": {
   "display_name": "Python 3",
   "language": "python",
   "name": "python3"
  },
  "language_info": {
   "codemirror_mode": {
    "name": "ipython",
    "version": 3
   },
   "file_extension": ".py",
   "mimetype": "text/x-python",
   "name": "python",
   "nbconvert_exporter": "python",
   "pygments_lexer": "ipython3",
   "version": "3.6.8"
  }
 },
 "nbformat": 4,
 "nbformat_minor": 2
}
