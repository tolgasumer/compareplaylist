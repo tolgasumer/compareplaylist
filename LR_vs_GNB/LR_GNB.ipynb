{
 "cells": [
  {
   "cell_type": "code",
   "execution_count": 1,
   "metadata": {
    "ExecuteTime": {
     "end_time": "2019-05-01T16:25:09.348909Z",
     "start_time": "2019-05-01T16:25:07.907348Z"
    }
   },
   "outputs": [],
   "source": [
    "import spotipy\n",
    "import pandas as pd\n",
    "import spotipy.util as util\n",
    "from spotipy.oauth2 import SpotifyClientCredentials\n",
    "from sklearn.metrics import accuracy_score, confusion_matrix\n",
    "from sklearn.model_selection import train_test_split \n",
    "from logistic_regression import LogisticRegression \n",
    "from gaussian_naive_bayes import GaussianNaiveBayes\n",
    "import matplotlib.pyplot as plt\n",
    "%matplotlib inline"
   ]
  },
  {
   "cell_type": "markdown",
   "metadata": {},
   "source": [
    "### 1. Data Acquisition"
   ]
  },
  {
   "cell_type": "markdown",
   "metadata": {},
   "source": [
    "<p style=\"text-align: justify\">The function <code>get_playlist_tracks</code> calls the Spotify Web API and retrieves all the tracks from a given playlist and its selected audio features: acousticness, danceability, energy, instrumentalness, valence and speechiness.</p>"
   ]
  },
  {
   "cell_type": "code",
   "execution_count": 2,
   "metadata": {
    "ExecuteTime": {
     "end_time": "2019-05-01T16:25:09.363186Z",
     "start_time": "2019-05-01T16:25:09.352292Z"
    }
   },
   "outputs": [],
   "source": [
    "def get_playlist_tracks(uri, features_of_interest):\n",
    "    playlist = sp.user_playlist_tracks(uri.split(':')[2], uri.split(':')[4])\n",
    "    tracks = playlist['items']\n",
    "    list_of_ids = []\n",
    "    list_of_names = []\n",
    "    features_per_track = {}\n",
    "    while playlist['next']:\n",
    "        playlist = sp.next(playlist)\n",
    "        tracks.extend(playlist['items'])\n",
    "    for track in tracks:\n",
    "        list_of_ids.append((track['track']['id']))\n",
    "        list_of_names.append((track['track']['name']))\n",
    "    for n, (track_id, track_name) in enumerate(zip(list_of_ids, list_of_names)): \n",
    "        features = dict((key,value) for key, value in sp.audio_features(track_id)[0].items() if key in features_of_interest)\n",
    "        features['track_id'] = track_id\n",
    "        features['playlist_id'] = uri.split(':')[4]\n",
    "        features_per_track[n] = features\n",
    "    return pd.DataFrame.from_dict(features_per_track, orient='index')"
   ]
  },
  {
   "cell_type": "markdown",
   "metadata": {},
   "source": [
    "<p style=\"text-align: justify\">The data used in this work contains 743 observations and was compiled using the script bellow. It has been previously saved in the <code>dataset.csv</code>.</p>"
   ]
  },
  {
   "cell_type": "code",
   "execution_count": 3,
   "metadata": {
    "ExecuteTime": {
     "end_time": "2019-05-01T16:27:47.999635Z",
     "start_time": "2019-05-01T16:25:09.367822Z"
    }
   },
   "outputs": [],
   "source": [
    "try:\n",
    "    client_credentials_manager = SpotifyClientCredentials(client_id = 'bddfdc9233b5493899809dcc42ca5cc3', client_secret = 'd97a1e581b5f4b4b9da348d6a0529e02')\n",
    "    sp = spotipy.Spotify(client_credentials_manager = client_credentials_manager)\n",
    "    audio_features = ['danceability', 'energy','speechiness', 'acousticness','instrumentalness', 'valence']\n",
    "    uri_rap = 'spotify:user:spotifycharts:playlist:4NvVpXZLIZ4z5yzTIqgLve'\n",
    "    uri_jazz = 'spotify:user:spotifycharts:playlist:1Rj92hyXm3WjpOJI8XgYtF'\n",
    "    rap = get_playlist_tracks(uri_rap, audio_features) ##retrieves 'Best of Rap'\n",
    "    jazz = get_playlist_tracks(uri_jazz, audio_features) ##retrieves 'Cafe Jazz'\n",
    "    frames = [rap, jazz]\n",
    "    result = pd.concat(frames).reset_index().drop('index', 1) ##concatenate the Dataframes\n",
    "    result.to_csv('dataset.csv', index=False)\n",
    "except:\n",
    "    print(\"No credentials!\")"
   ]
  },
  {
   "cell_type": "markdown",
   "metadata": {},
   "source": [
    "### 2. Data Analysis"
   ]
  },
  {
   "cell_type": "markdown",
   "metadata": {},
   "source": [
    "<p style=\"text-align: justify\">The following table summarizes the central tendency and dispersion of the audio features.</p>"
   ]
  },
  {
   "cell_type": "code",
   "execution_count": 24,
   "metadata": {
    "ExecuteTime": {
     "end_time": "2019-05-01T16:48:57.683029Z",
     "start_time": "2019-05-01T16:48:57.628458Z"
    }
   },
   "outputs": [
    {
     "data": {
      "text/html": [
       "<div>\n",
       "<style scoped>\n",
       "    .dataframe tbody tr th:only-of-type {\n",
       "        vertical-align: middle;\n",
       "    }\n",
       "\n",
       "    .dataframe tbody tr th {\n",
       "        vertical-align: top;\n",
       "    }\n",
       "\n",
       "    .dataframe thead th {\n",
       "        text-align: right;\n",
       "    }\n",
       "</style>\n",
       "<table border=\"1\" class=\"dataframe\">\n",
       "  <thead>\n",
       "    <tr style=\"text-align: right;\">\n",
       "      <th></th>\n",
       "      <th>danceability</th>\n",
       "      <th>energy</th>\n",
       "      <th>speechiness</th>\n",
       "      <th>acousticness</th>\n",
       "      <th>instrumentalness</th>\n",
       "      <th>valence</th>\n",
       "    </tr>\n",
       "  </thead>\n",
       "  <tbody>\n",
       "    <tr>\n",
       "      <th>count</th>\n",
       "      <td>775.000000</td>\n",
       "      <td>775.000000</td>\n",
       "      <td>775.000000</td>\n",
       "      <td>775.000000</td>\n",
       "      <td>775.000000</td>\n",
       "      <td>775.000000</td>\n",
       "    </tr>\n",
       "    <tr>\n",
       "      <th>mean</th>\n",
       "      <td>0.686192</td>\n",
       "      <td>0.522988</td>\n",
       "      <td>0.157569</td>\n",
       "      <td>0.449509</td>\n",
       "      <td>0.116524</td>\n",
       "      <td>0.569812</td>\n",
       "    </tr>\n",
       "    <tr>\n",
       "      <th>std</th>\n",
       "      <td>0.139436</td>\n",
       "      <td>0.221335</td>\n",
       "      <td>0.132347</td>\n",
       "      <td>0.342396</td>\n",
       "      <td>0.266617</td>\n",
       "      <td>0.210077</td>\n",
       "    </tr>\n",
       "    <tr>\n",
       "      <th>min</th>\n",
       "      <td>0.265000</td>\n",
       "      <td>0.043800</td>\n",
       "      <td>0.025400</td>\n",
       "      <td>0.000136</td>\n",
       "      <td>0.000000</td>\n",
       "      <td>0.041100</td>\n",
       "    </tr>\n",
       "    <tr>\n",
       "      <th>25%</th>\n",
       "      <td>0.597500</td>\n",
       "      <td>0.335500</td>\n",
       "      <td>0.040900</td>\n",
       "      <td>0.103000</td>\n",
       "      <td>0.000000</td>\n",
       "      <td>0.416000</td>\n",
       "    </tr>\n",
       "    <tr>\n",
       "      <th>50%</th>\n",
       "      <td>0.697000</td>\n",
       "      <td>0.524000</td>\n",
       "      <td>0.091200</td>\n",
       "      <td>0.425000</td>\n",
       "      <td>0.000022</td>\n",
       "      <td>0.588000</td>\n",
       "    </tr>\n",
       "    <tr>\n",
       "      <th>75%</th>\n",
       "      <td>0.794500</td>\n",
       "      <td>0.710000</td>\n",
       "      <td>0.270000</td>\n",
       "      <td>0.798500</td>\n",
       "      <td>0.010350</td>\n",
       "      <td>0.735500</td>\n",
       "    </tr>\n",
       "    <tr>\n",
       "      <th>max</th>\n",
       "      <td>0.959000</td>\n",
       "      <td>0.978000</td>\n",
       "      <td>0.681000</td>\n",
       "      <td>0.991000</td>\n",
       "      <td>0.976000</td>\n",
       "      <td>0.975000</td>\n",
       "    </tr>\n",
       "  </tbody>\n",
       "</table>\n",
       "</div>"
      ],
      "text/plain": [
       "       danceability      energy  speechiness  acousticness  instrumentalness  \\\n",
       "count    775.000000  775.000000   775.000000    775.000000        775.000000   \n",
       "mean       0.686192    0.522988     0.157569      0.449509          0.116524   \n",
       "std        0.139436    0.221335     0.132347      0.342396          0.266617   \n",
       "min        0.265000    0.043800     0.025400      0.000136          0.000000   \n",
       "25%        0.597500    0.335500     0.040900      0.103000          0.000000   \n",
       "50%        0.697000    0.524000     0.091200      0.425000          0.000022   \n",
       "75%        0.794500    0.710000     0.270000      0.798500          0.010350   \n",
       "max        0.959000    0.978000     0.681000      0.991000          0.976000   \n",
       "\n",
       "          valence  \n",
       "count  775.000000  \n",
       "mean     0.569812  \n",
       "std      0.210077  \n",
       "min      0.041100  \n",
       "25%      0.416000  \n",
       "50%      0.588000  \n",
       "75%      0.735500  \n",
       "max      0.975000  "
      ]
     },
     "execution_count": 24,
     "metadata": {},
     "output_type": "execute_result"
    }
   ],
   "source": [
    "data = pd.read_csv('dataset.csv')\n",
    "data_trans = data.copy()\n",
    "data_trans.loc[data['playlist_id'] == '4NvVpXZLIZ4z5yzTIqgLve', 'playlist_id'] = 0 ##rap\n",
    "data_trans.loc[data['playlist_id'] == '1Rj92hyXm3WjpOJI8XgYtF', 'playlist_id'] = 1 ##jazz\n",
    "data_trans.loc[:, 'danceability':'valence'].describe()"
   ]
  },
  {
   "cell_type": "markdown",
   "metadata": {},
   "source": [
    "<p style=\"text-align: justify\">And the graph below visually illustrates the central tendency of the audio attributes for each playlist and how it varies compared to the overall average value. Acousticness and instrumentalness are the two attributes that varied the most. The average valence, on the other hand, varied the least.</p> "
   ]
  },
  {
   "cell_type": "code",
   "execution_count": 5,
   "metadata": {
    "ExecuteTime": {
     "end_time": "2019-05-01T16:27:48.453599Z",
     "start_time": "2019-05-01T16:27:48.090830Z"
    }
   },
   "outputs": [
    {
     "data": {
      "image/png": "[encoded data removed]",
      "text/plain": [
       "<Figure size 576x360 with 1 Axes>"
      ]
     },
     "metadata": {
      "needs_background": "light"
     },
     "output_type": "display_data"
    }
   ],
   "source": [
    "audio_features = ['danceability', 'energy', 'speechiness', 'acousticness','instrumentalness', 'valence']\n",
    "all_playlists = data_trans[audio_features].describe().T\n",
    "\n",
    "rap = data_trans.loc[data_trans['playlist_id'] == 0][audio_features].describe().T\n",
    "rap.rename(columns={'mean':'mean_rap'}, inplace=True)\n",
    "\n",
    "jazz = data_trans.loc[data_trans['playlist_id'] == 1][audio_features].describe().T\n",
    "jazz.rename(columns={'mean':'mean_jazz'}, inplace=True)\n",
    "\n",
    "df1 = rap['mean_rap']\n",
    "df2 = jazz['mean_jazz']\n",
    "df3 = all_playlists['mean']\n",
    "\n",
    "r = pd.concat([df1, df2, df3], axis=1)\n",
    "r.plot(kind='bar', figsize=(8,5), title='Audio feature average value per playlist', colormap='viridis', rot=20);"
   ]
  },
  {
   "cell_type": "markdown",
   "metadata": {},
   "source": [
    "<p style=\"text-align: justify\">The dataset is split into training and testing sets with a ratio of 'test_size' using the scikit-learn's implementation.</p>"
   ]
  },
  {
   "cell_type": "code",
   "execution_count": 18,
   "metadata": {
    "ExecuteTime": {
     "end_time": "2019-05-01T16:44:55.849237Z",
     "start_time": "2019-05-01T16:44:55.842743Z"
    }
   },
   "outputs": [],
   "source": [
    "features = data_trans.loc[:, 'danceability':'valence'].values\n",
    "targets = data_trans.loc[:, 'playlist_id'].values\n",
    "x_train, x_test, y_train, y_test = train_test_split(features, targets, test_size=0.1, random_state=100)"
   ]
  },
  {
   "cell_type": "markdown",
   "metadata": {},
   "source": [
    "### 3. Logistic Regression"
   ]
  },
  {
   "cell_type": "code",
   "execution_count": 19,
   "metadata": {
    "ExecuteTime": {
     "end_time": "2019-05-01T16:44:57.136095Z",
     "start_time": "2019-05-01T16:44:56.616487Z"
    }
   },
   "outputs": [
    {
     "data": {
      "text/plain": [
       "0.9743589743589743"
      ]
     },
     "execution_count": 19,
     "metadata": {},
     "output_type": "execute_result"
    }
   ],
   "source": [
    "lr = LogisticRegression(iterations=15000, learning_rate=0.10)\n",
    "pred_y = lr.fit(x_train, y_train).predict(x_test)\n",
    "accuracy_score(pred_y, y_test)"
   ]
  },
  {
   "cell_type": "code",
   "execution_count": 20,
   "metadata": {
    "ExecuteTime": {
     "end_time": "2019-05-01T16:44:57.147275Z",
     "start_time": "2019-05-01T16:44:57.138803Z"
    }
   },
   "outputs": [
    {
     "data": {
      "text/plain": [
       "array([[44,  0],\n",
       "       [ 2, 32]])"
      ]
     },
     "execution_count": 20,
     "metadata": {},
     "output_type": "execute_result"
    }
   ],
   "source": [
    "confusion_matrix(y_test, pred_y)"
   ]
  },
  {
   "cell_type": "markdown",
   "metadata": {},
   "source": [
    "### 4. Gaussian Naïve Bayes"
   ]
  },
  {
   "cell_type": "code",
   "execution_count": 21,
   "metadata": {
    "ExecuteTime": {
     "end_time": "2019-05-01T16:44:57.284279Z",
     "start_time": "2019-05-01T16:44:57.264171Z"
    }
   },
   "outputs": [
    {
     "data": {
      "text/plain": [
       "0.9615384615384616"
      ]
     },
     "execution_count": 21,
     "metadata": {},
     "output_type": "execute_result"
    }
   ],
   "source": [
    "gnb = GaussianNaiveBayes()\n",
    "pred_y = gnb.fit(x_train, y_train).predict(x_test)\n",
    "accuracy_score(y_test, pred_y)"
   ]
  },
  {
   "cell_type": "code",
   "execution_count": 22,
   "metadata": {
    "ExecuteTime": {
     "end_time": "2019-05-01T16:44:59.339946Z",
     "start_time": "2019-05-01T16:44:59.328675Z"
    }
   },
   "outputs": [
    {
     "data": {
      "text/plain": [
       "array([[44,  0],\n",
       "       [ 3, 31]])"
      ]
     },
     "execution_count": 22,
     "metadata": {},
     "output_type": "execute_result"
    }
   ],
   "source": [
    "confusion_matrix(y_test, pred_y)"
   ]
  }
 ],
 "metadata": {
  "kernelspec": {
   "display_name": "Python 3",
   "language": "python",
   "name": "python3"
  },
  "language_info": {
   "codemirror_mode": {
    "name": "ipython",
    "version": 3
   },
   "file_extension": ".py",
   "mimetype": "text/x-python",
   "name": "python",
   "nbconvert_exporter": "python",
   "pygments_lexer": "ipython3",
   "version": "3.6.8"
  }
 },
 "nbformat": 4,
 "nbformat_minor": 2
}
